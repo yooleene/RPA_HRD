{
 "cells": [
  {
   "cell_type": "markdown",
   "metadata": {},
   "source": [
    "- 접속 정보"
   ]
  },
  {
   "cell_type": "code",
   "execution_count": null,
   "metadata": {},
   "outputs": [],
   "source": [
    "# 모듈 불러오기\n",
    "import requests\n",
    "import pandas as pd\n",
    "import pyautogui as pg\n",
    "\n",
    "requests.packages.urllib3.disable_warnings(requests.packages.urllib3.exceptions.InsecureRequestWarning) #경고문구 제거\n",
    "\n",
    "header = {\n",
    "      'User-Agent':'Mozilla/5.0 (Windows NT 10.0; Win64; x64) AppleWebKit/537.36 (KHTML, like Gecko) Chrome/96.0.4664.110 Safari/537.36 Edg/96.0.1054.62'\n",
    "      }\n",
    "\n",
    "lp_id = \"user_id@poscohrd.com\"\n",
    "lp_pw = pg.password(title=\"lp패스워드\", text=\"패스워드 입력하기\")"
   ]
  },
  {
   "cell_type": "markdown",
   "metadata": {},
   "source": [
    "- 로그인 및 세션 생성"
   ]
  },
  {
   "cell_type": "code",
   "execution_count": null,
   "metadata": {},
   "outputs": [],
   "source": [
    "# LP접속 url : 로그인 페이지에서 로그 기록 하면서 로그인(XHR)\n",
    "url = \"https://lp.posco.co.kr/S22/S22A10/member/login/ajax/login.do\"\n",
    "\n",
    "#payload에서 파라미터 확인\n",
    "form_data = {}\n",
    "\n",
    "# session생성\n",
    "s = requests.session()\n",
    "\n",
    "# 세션을 통해 로그인하기\n",
    "login_page = "
   ]
  },
  {
   "cell_type": "markdown",
   "metadata": {},
   "source": [
    "- 차수 리스트 페이지 접속"
   ]
  },
  {
   "cell_type": "code",
   "execution_count": null,
   "metadata": {},
   "outputs": [],
   "source": [
    "# 최종으로 데이터를 추출하는 페이지 : 로그인 된 상태에서 차수명 리스트 검색하기- 검색하고 url 추출\n",
    "list_url = \"\"\n",
    "\n",
    "form_data = {\"start\":\"0\",\n",
    "      \"length\":\"500\",\n",
    "      \"keywordType\":\"C\",\n",
    "      \"eduMngtDeptName\":\"디지털혁신교육그룹\",\n",
    "      \"eduPeriodFlag\":\"C\",\n",
    "      \"searchStartDt\":\"20220722\",\n",
    "      \"searchEndDt\":\"20220821\"\n",
    "      }\n",
    "\n",
    "# lp 차수명 리스트 접속\n",
    "res = \n",
    "\n",
    "#preview에서 확인하면 딕셔너리의 json 데이터로 되어 있음\n",
    "results = "
   ]
  },
  {
   "cell_type": "code",
   "execution_count": null,
   "metadata": {},
   "outputs": [],
   "source": [
    "#json 데이터 확인\n",
    "results"
   ]
  },
  {
   "cell_type": "markdown",
   "metadata": {},
   "source": [
    "- 데이터 정리"
   ]
  },
  {
   "cell_type": "code",
   "execution_count": null,
   "metadata": {},
   "outputs": [],
   "source": []
  },
  {
   "cell_type": "markdown",
   "metadata": {},
   "source": [
    "- 차수명, 지역 추출"
   ]
  },
  {
   "cell_type": "code",
   "execution_count": null,
   "metadata": {},
   "outputs": [],
   "source": []
  },
  {
   "cell_type": "markdown",
   "metadata": {},
   "source": [
    "- 과정별 학습자 리스트 추출"
   ]
  },
  {
   "cell_type": "code",
   "execution_count": null,
   "metadata": {},
   "outputs": [],
   "source": [
    "# 차수의 운영관리에 들어가서 URL 추출\n",
    "course_url = \"\"\n",
    "\n",
    "# 상위에서 추출된 차수들의 차수명 id정보 추출 - 운영관리에 들러갈 파라미터값을 추추루한 것임\n"
   ]
  },
  {
   "cell_type": "code",
   "execution_count": null,
   "metadata": {},
   "outputs": [],
   "source": [
    "# 각 차수별 학습자 리스트\n",
    "\n"
   ]
  },
  {
   "cell_type": "code",
   "execution_count": null,
   "metadata": {},
   "outputs": [],
   "source": []
  },
  {
   "cell_type": "code",
   "execution_count": null,
   "metadata": {},
   "outputs": [],
   "source": []
  },
  {
   "cell_type": "code",
   "execution_count": null,
   "metadata": {},
   "outputs": [],
   "source": []
  }
 ],
 "metadata": {
  "kernelspec": {
   "display_name": "Python 3.8.10 64-bit",
   "language": "python",
   "name": "python3"
  },
  "language_info": {
   "codemirror_mode": {
    "name": "ipython",
    "version": 3
   },
   "file_extension": ".py",
   "mimetype": "text/x-python",
   "name": "python",
   "nbconvert_exporter": "python",
   "pygments_lexer": "ipython3",
   "version": "3.8.10"
  },
  "orig_nbformat": 4,
  "vscode": {
   "interpreter": {
    "hash": "e2782e0ab7cab974e8fb2dfc8cec048a29dc3b50e54743df0c4a34ac41b2be7e"
   }
  }
 },
 "nbformat": 4,
 "nbformat_minor": 2
}
