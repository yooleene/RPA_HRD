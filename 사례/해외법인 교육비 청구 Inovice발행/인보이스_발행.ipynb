{
 "cells": [
  {
   "cell_type": "markdown",
   "metadata": {},
   "source": [
    "- pdf로 내보내기"
   ]
  },
  {
   "cell_type": "code",
   "execution_count": 22,
   "metadata": {},
   "outputs": [],
   "source": [
    "import pyautogui as pg\n",
    "import pandas as pd"
   ]
  },
  {
   "cell_type": "code",
   "execution_count": 5,
   "metadata": {},
   "outputs": [],
   "source": [
    "pg.sleep(3)\n",
    "pg.hotkey('alt','f') #파일 메뉴\n",
    "pg.press(['e','a']) #pdf로 내보내기\n",
    "pg.sleep(3)\n",
    "pg.hotkey('ctrl','pagedown') #다음시트 이동"
   ]
  },
  {
   "cell_type": "markdown",
   "metadata": {},
   "source": [
    "- 인보이스 발행"
   ]
  },
  {
   "cell_type": "code",
   "execution_count": 23,
   "metadata": {},
   "outputs": [],
   "source": [
    "import win32com.client\n",
    "excel = win32com.client.Dispatch('Excel.Application')\n",
    "excel.Visible = True"
   ]
  },
  {
   "cell_type": "code",
   "execution_count": 24,
   "metadata": {},
   "outputs": [],
   "source": [
    "wb = excel.Workbooks.Open('D:\\작업방\\lab\\원내_RPA\\이아름_해외법인 교육비 청구 Inovice발행/22년 해외법인 교육과정 인보이스 관리대장.xlsx')\n",
    "ws = wb.Worksheets('22년 하반기 법인별 인보이스')"
   ]
  },
  {
   "cell_type": "code",
   "execution_count": null,
   "metadata": {},
   "outputs": [],
   "source": [
    "win = pg.getWindowsWithTitle('교육과정 인보이스 관리대장')\n",
    "if win[0].isActive == False:\n",
    "    win[0].activate()\n",
    "pg.hotkey('ctrl','home') \n",
    "pg.hotkey('ctrl','a')\n",
    "pg.hotkey('ctrl','c')\n",
    "\n",
    "excel_data = pd.read_clipboard()\n",
    "# excel_data"
   ]
  },
  {
   "cell_type": "code",
   "execution_count": 26,
   "metadata": {},
   "outputs": [
    {
     "data": {
      "text/plain": [
       "법인명\n",
       "P-Austrailia    1\n",
       "P-Europe        4\n",
       "P-IJPC          2\n",
       "P-PWPC          1\n",
       "PT. KP          5\n",
       "Name: 법인명, dtype: int64"
      ]
     },
     "execution_count": 26,
     "metadata": {},
     "output_type": "execute_result"
    }
   ],
   "source": [
    "com_cnt = excel_data.groupby(\"법인명\")['법인명'].count()\n",
    "com_cnt\n",
    "# type(com_cnt)"
   ]
  },
  {
   "cell_type": "code",
   "execution_count": 27,
   "metadata": {},
   "outputs": [
    {
     "data": {
      "text/plain": [
       "4"
      ]
     },
     "execution_count": 27,
     "metadata": {},
     "output_type": "execute_result"
    }
   ],
   "source": [
    "com_cnt['P-Europe']"
   ]
  },
  {
   "cell_type": "code",
   "execution_count": 35,
   "metadata": {},
   "outputs": [],
   "source": [
    "com_list = [ 'P-Europe', 'P-PWPC', 'P-Austrailia','PT. KP', 'P-IJPC']"
   ]
  },
  {
   "cell_type": "code",
   "execution_count": 51,
   "metadata": {},
   "outputs": [
    {
     "name": "stdout",
     "output_type": "stream",
     "text": [
      "140000.0\n",
      "190000.0\n",
      "243000.0\n",
      "65000.0\n",
      "243000.0\n",
      "243000.0\n",
      "52023000.0\n",
      "178000.0\n",
      "518000.0\n",
      "185000.0\n",
      "195091.32499999998\n",
      "243000.0\n",
      "195091.32499999998\n"
     ]
    }
   ],
   "source": [
    "row = 2 #시작행\n",
    "c = 0\n",
    "for i in range(len(com_list)): #총 법인 수만큼\n",
    "      for j in range(com_cnt[com_list[c]]): #법인별 횟수만큼\n",
    "            print(ws.Cells(row, 9).Value)\n",
    "            row += 1 #전체 행 누적 진행\n",
    "            # print(row)\n",
    "      c += 1 #법인 리스트의 값을 순서대로 진행"
   ]
  },
  {
   "cell_type": "code",
   "execution_count": 58,
   "metadata": {},
   "outputs": [],
   "source": [
    "wb2 = excel.Workbooks.Open('D:\\작업방\\lab\\원내_RPA\\이아름_해외법인 교육비 청구 Inovice발행/22년 하반기 영어권 해외법인 인보이스.xlsx')"
   ]
  },
  {
   "cell_type": "code",
   "execution_count": 63,
   "metadata": {},
   "outputs": [],
   "source": [
    "ws2 = wb2.Worksheets(com_list[0])"
   ]
  },
  {
   "cell_type": "code",
   "execution_count": 72,
   "metadata": {},
   "outputs": [],
   "source": [
    "#최초 양식에 1행은 생성\n",
    "\n",
    "for m in range(1,com_cnt[com_list[0]]):\n",
    "      pg.sleep(0.5)\n",
    "      ws2.Rows(17).Insert() #행 삽입"
   ]
  },
  {
   "cell_type": "code",
   "execution_count": 70,
   "metadata": {},
   "outputs": [
    {
     "data": {
      "text/plain": [
       "4"
      ]
     },
     "execution_count": 70,
     "metadata": {},
     "output_type": "execute_result"
    }
   ],
   "source": [
    "com_cnt[com_list[0]]"
   ]
  },
  {
   "cell_type": "code",
   "execution_count": null,
   "metadata": {},
   "outputs": [],
   "source": [
    "i = 2\n",
    "\n",
    "\n",
    "\n",
    "\n",
    "\n",
    "\n",
    "cell_value = ws.Cells(i, 1).Value\n",
    "\n",
    "\n",
    "while com_name != None : #마지막 행까지 진행\n",
    "      i+=1\n",
    "      com_name = ws.Cells(i,1).Value\n",
    "\n",
    "\n",
    "\n",
    "\n",
    "max_row = i-1\n",
    "\n",
    "print(max_row)"
   ]
  },
  {
   "cell_type": "code",
   "execution_count": 8,
   "metadata": {},
   "outputs": [
    {
     "data": {
      "text/plain": [
       "'P-Europe'"
      ]
     },
     "execution_count": 8,
     "metadata": {},
     "output_type": "execute_result"
    }
   ],
   "source": [
    "com_name"
   ]
  }
 ],
 "metadata": {
  "kernelspec": {
   "display_name": "Python 3.8.10 64-bit",
   "language": "python",
   "name": "python3"
  },
  "language_info": {
   "codemirror_mode": {
    "name": "ipython",
    "version": 3
   },
   "file_extension": ".py",
   "mimetype": "text/x-python",
   "name": "python",
   "nbconvert_exporter": "python",
   "pygments_lexer": "ipython3",
   "version": "3.8.10"
  },
  "orig_nbformat": 4,
  "vscode": {
   "interpreter": {
    "hash": "e2782e0ab7cab974e8fb2dfc8cec048a29dc3b50e54743df0c4a34ac41b2be7e"
   }
  }
 },
 "nbformat": 4,
 "nbformat_minor": 2
}
