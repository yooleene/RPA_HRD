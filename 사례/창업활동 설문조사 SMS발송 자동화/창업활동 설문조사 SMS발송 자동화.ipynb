{
 "cells": [
  {
   "cell_type": "markdown",
   "metadata": {},
   "source": [
    "### T1 : 정보입력"
   ]
  },
  {
   "cell_type": "markdown",
   "metadata": {},
   "source": [
    "- 패키지 불러오기"
   ]
  },
  {
   "cell_type": "code",
   "execution_count": null,
   "metadata": {},
   "outputs": [],
   "source": [
    "from selenium import webdriver\n",
    "from selenium.webdriver.common.by import By"
   ]
  },
  {
   "cell_type": "markdown",
   "metadata": {},
   "source": [
    "- 사이트 접속"
   ]
  },
  {
   "cell_type": "code",
   "execution_count": null,
   "metadata": {},
   "outputs": [],
   "source": [
    "url ='https://www.gosurvey.co.kr/adm/'\n",
    "driver = webdriver.Chrome('chromedriver')\n",
    "driver.get(url)"
   ]
  },
  {
   "cell_type": "markdown",
   "metadata": {},
   "source": [
    "- 로그인 정보 입력하기"
   ]
  },
  {
   "cell_type": "code",
   "execution_count": null,
   "metadata": {},
   "outputs": [],
   "source": [
    "driver.find_element(By.XPATH,'//*[@id=\"mbId\"]').send_keys('admin')\n",
    "driver.find_element(By.XPATH,'//*[@id=\"mbPassword\"]').send_keys('posco123')\n",
    "driver.find_element(By.XPATH,'//*[@id=\"LogInFormSubmitBtn\"]').click()\n",
    "driver.implicitly_wait(10)"
   ]
  },
  {
   "cell_type": "markdown",
   "metadata": {},
   "source": [
    "- 창업 활동 검색하기"
   ]
  },
  {
   "cell_type": "code",
   "execution_count": null,
   "metadata": {},
   "outputs": [],
   "source": [
    "driver.find_element(By.XPATH,'//*[@id=\"surveySearchStr\"]').send_keys('창업 활동')\n",
    "driver.find_element(By.XPATH,'//*[@id=\"surveySearchBtn\"]').click()\n",
    "driver.implicitly_wait(10)"
   ]
  },
  {
   "cell_type": "code",
   "execution_count": null,
   "metadata": {},
   "outputs": [],
   "source": [
    "# URL  찾기\n",
    "survey_url= driver.find_element(By.XPATH,'//*[@id=\"surveyListTable\"]/tbody/tr/td[5]/a[1]')"
   ]
  },
  {
   "cell_type": "code",
   "execution_count": null,
   "metadata": {},
   "outputs": [],
   "source": [
    "survey_url.text"
   ]
  },
  {
   "cell_type": "markdown",
   "metadata": {},
   "source": [
    "### T2 : EP 접속/로그인"
   ]
  },
  {
   "cell_type": "markdown",
   "metadata": {},
   "source": [
    "- EP 로그인 정보 입력"
   ]
  },
  {
   "cell_type": "code",
   "execution_count": null,
   "metadata": {},
   "outputs": [],
   "source": [
    "import pyautogui\n",
    "\n",
    "my_id = 'user_id'\n",
    "my_pw = pyautogui.password(title='EP_PASS', text='패스워드를 입력하세요', default='')"
   ]
  },
  {
   "cell_type": "markdown",
   "metadata": {},
   "source": [
    "- EP 접속"
   ]
  },
  {
   "cell_type": "code",
   "execution_count": null,
   "metadata": {},
   "outputs": [],
   "source": [
    "from selenium import webdriver\n",
    "from selenium.webdriver.common.by import By\n",
    "from selenium.webdriver.common.keys import Keys\n",
    "import clipboard\n",
    "\n",
    "url = 'http://swpsso.posco.net/idms/U61/jsp/login/login.jsp'\n",
    "\n",
    "driver = webdriver.Chrome('chromedriver')\n",
    "driver.get(url)\n",
    "driver.maximize_window()\n",
    "\n",
    "#로그인\n",
    "driver.find_element(By.XPATH,'//*[@id=\"username\"]').send_keys('inja8870')\n",
    "driver.find_element(By.XPATH,'//*[@id=\"password\"]').send_keys('shfqnDA123^^')\n",
    "driver.find_element(By.XPATH,'//*[@id=\"loginsubmit\"]').click()\n",
    "driver.implicitly_wait(10) #드라이버가 로딩되는데 10초까지 대기, 빨리 로딩되면 다음 코드 진행\n",
    "\n",
    "# 로그인시 발생하는 예외 처리\n",
    "pyautogui.sleep(5)\n",
    "try:  # 기존 로그인 경고창이 열릴 경우 alert accept 처리\n",
    "    alert=driver.switch_to.alert\n",
    "    alert.accept()\n",
    "except:\n",
    "    print(\"기존 로그인 경고창 없음. 계속 진행.\")  # 경고창이 열리지 않을 경우"
   ]
  },
  {
   "cell_type": "markdown",
   "metadata": {},
   "source": [
    "- 현재 활성화된 드라이버 창 확인하여 SSO Notice 창 닫기"
   ]
  },
  {
   "cell_type": "code",
   "execution_count": null,
   "metadata": {},
   "outputs": [],
   "source": [
    "pyautogui.sleep(2) #슬립이 없으면 에러\n",
    "\n",
    "try:  # 팝업창이 열릴 경우 창 닫기\n",
    "      for i in reversed(range(len(driver.window_handles))):\n",
    "            driver.switch_to.window(driver.window_handles[i])\n",
    "            if driver.title != 'EP(Enterprise Portal)':\n",
    "                  driver.close()\n",
    "except:\n",
    "    print(\"팝업창 없음-계속 진행\")  # 팝업창이 하나도 없을 경우"
   ]
  },
  {
   "cell_type": "code",
   "execution_count": null,
   "metadata": {},
   "outputs": [],
   "source": [
    "driver.switch_to.window(driver.window_handles[0])"
   ]
  },
  {
   "cell_type": "markdown",
   "metadata": {},
   "source": [
    "### T3 : 발송처 선택"
   ]
  },
  {
   "cell_type": "markdown",
   "metadata": {},
   "source": [
    "- SMS 앱 열기"
   ]
  },
  {
   "cell_type": "code",
   "execution_count": null,
   "metadata": {},
   "outputs": [],
   "source": [
    "xp = '//*[@id=\"482164\"]/a[1]/span[1]/img'\n",
    "driver.find_element(By.XPATH, xp).click()\n",
    "driver.implicitly_wait(10)"
   ]
  },
  {
   "cell_type": "code",
   "execution_count": null,
   "metadata": {},
   "outputs": [],
   "source": [
    "driver.window_handles[-1]"
   ]
  },
  {
   "cell_type": "markdown",
   "metadata": {},
   "source": [
    "- SMS창으로 전환"
   ]
  },
  {
   "cell_type": "code",
   "execution_count": null,
   "metadata": {},
   "outputs": [],
   "source": [
    "driver.switch_to.window(driver.window_handles[-1])"
   ]
  },
  {
   "cell_type": "markdown",
   "metadata": {},
   "source": [
    "- 수신인 검색"
   ]
  },
  {
   "cell_type": "code",
   "execution_count": null,
   "metadata": {},
   "outputs": [],
   "source": [
    "xp = '//*[@id=\"popWrap\"]/div[2]/div[1]/p[1]/span/button'\n",
    "driver.find_element(By.XPATH, xp).click()"
   ]
  },
  {
   "cell_type": "markdown",
   "metadata": {},
   "source": [
    "- 수신인창으로 전환"
   ]
  },
  {
   "cell_type": "code",
   "execution_count": null,
   "metadata": {},
   "outputs": [],
   "source": [
    "driver.switch_to.window(driver.window_handles[-1])"
   ]
  },
  {
   "cell_type": "markdown",
   "metadata": {},
   "source": [
    "- 개인배포검색 선택"
   ]
  },
  {
   "cell_type": "code",
   "execution_count": null,
   "metadata": {},
   "outputs": [],
   "source": [
    "xp = '//*[@id=\"popWrap\"]/div[2]/div[1]/form/ul/li[2]/a'\n",
    "driver.find_element(By.XPATH, xp).click()"
   ]
  },
  {
   "cell_type": "markdown",
   "metadata": {},
   "source": [
    "- All 클릭"
   ]
  },
  {
   "cell_type": "code",
   "execution_count": null,
   "metadata": {},
   "outputs": [],
   "source": [
    "xp = '//*[@id=\"googleTab\"]/form/div[1]/a'\n",
    "driver.find_element(By.XPATH, xp).click()"
   ]
  },
  {
   "cell_type": "markdown",
   "metadata": {},
   "source": [
    "- 창업모든기수 클릭"
   ]
  },
  {
   "cell_type": "code",
   "execution_count": null,
   "metadata": {},
   "outputs": [],
   "source": [
    "xp = '//*[@id=\"googleTab\"]/form/div[1]/ul/li[3]/a'\n",
    "driver.find_element(By.XPATH, xp).click()"
   ]
  },
  {
   "cell_type": "markdown",
   "metadata": {},
   "source": [
    "- 전체 수신인 클릭"
   ]
  },
  {
   "cell_type": "code",
   "execution_count": null,
   "metadata": {},
   "outputs": [],
   "source": [
    "xp = '//*[@id=\"chkall2\"]'\n",
    "driver.find_element(By.XPATH, xp).click()"
   ]
  },
  {
   "cell_type": "code",
   "execution_count": null,
   "metadata": {},
   "outputs": [],
   "source": [
    "pyautogui.sleep(5)\n",
    "try:  # 경고창이 열릴 경우 alert accept 처리\n",
    "    alert=driver.switch_to.alert\n",
    "    alert.accept()\n",
    "except:\n",
    "    print(\"경고창 없음. 계속 진행.\")  # 경고창이 열리지 않을 경우"
   ]
  },
  {
   "cell_type": "markdown",
   "metadata": {},
   "source": [
    "- 확인 클릭"
   ]
  },
  {
   "cell_type": "code",
   "execution_count": null,
   "metadata": {},
   "outputs": [],
   "source": [
    "xp = '//*[@id=\"popWrap\"]/div[2]/div[2]/span[1]/button/b'\n",
    "driver.find_element(By.XPATH, xp).click()"
   ]
  },
  {
   "cell_type": "markdown",
   "metadata": {},
   "source": [
    "### T4 : 문자 발송"
   ]
  },
  {
   "cell_type": "markdown",
   "metadata": {},
   "source": [
    "- SMS창으로 전환"
   ]
  },
  {
   "cell_type": "code",
   "execution_count": null,
   "metadata": {},
   "outputs": [],
   "source": [
    "driver.switch_to.window(driver.window_handles[-1])"
   ]
  },
  {
   "cell_type": "markdown",
   "metadata": {},
   "source": [
    "- 내용 클릭"
   ]
  },
  {
   "cell_type": "code",
   "execution_count": null,
   "metadata": {},
   "outputs": [],
   "source": [
    "xp = '//*[@id=\"popWrap\"]/div[2]/div[1]/div/div[1]/div/textarea'\n",
    "driver.find_element(By.XPATH, xp).click()"
   ]
  },
  {
   "cell_type": "markdown",
   "metadata": {},
   "source": [
    "- 내용 입력"
   ]
  },
  {
   "cell_type": "code",
   "execution_count": null,
   "metadata": {},
   "outputs": [],
   "source": [
    "xp = '//*[@id=\"popWrap\"]/div[2]/div[1]/div/div[1]/div/textarea'\n",
    "text_c = '안녕하세요? 창업 인큐베이팅 스쿨 담당자 이인자 입니다.'\n",
    "driver.find_element(By.XPATH, xp).send_keys(text_c)"
   ]
  },
  {
   "cell_type": "markdown",
   "metadata": {},
   "source": [
    "- 발송 클릭"
   ]
  },
  {
   "cell_type": "code",
   "execution_count": null,
   "metadata": {},
   "outputs": [],
   "source": [
    "xp = '//*[@id=\"popWrap\"]/div[2]/div[2]/span[1]/button/b'\n",
    "driver.find_element(By.XPATH, xp).click()"
   ]
  },
  {
   "cell_type": "markdown",
   "metadata": {},
   "source": [
    "- gosurvey 링크 입력"
   ]
  },
  {
   "cell_type": "code",
   "execution_count": null,
   "metadata": {},
   "outputs": [],
   "source": [
    "xp = '//*[@id=\"popWrap\"]/div[2]/div[1]/div/div[1]/div/textarea'\n",
    "driver.find_element(By.XPATH, xp).send_keys(survey_url.text)"
   ]
  },
  {
   "cell_type": "markdown",
   "metadata": {},
   "source": [
    "- 발송 클릭"
   ]
  },
  {
   "cell_type": "code",
   "execution_count": null,
   "metadata": {},
   "outputs": [],
   "source": [
    "xp = '//*[@id=\"popWrap\"]/div[2]/div[2]/span[1]/button/b'\n",
    "driver.find_element(By.XPATH, xp).click()"
   ]
  }
 ],
 "metadata": {
  "kernelspec": {
   "display_name": "Python 3",
   "language": "python",
   "name": "python3"
  },
  "language_info": {
   "codemirror_mode": {
    "name": "ipython",
    "version": 3
   },
   "file_extension": ".py",
   "mimetype": "text/x-python",
   "name": "python",
   "nbconvert_exporter": "python",
   "pygments_lexer": "ipython3",
   "version": "3.8.10"
  },
  "orig_nbformat": 4,
  "vscode": {
   "interpreter": {
    "hash": "e2782e0ab7cab974e8fb2dfc8cec048a29dc3b50e54743df0c4a34ac41b2be7e"
   }
  }
 },
 "nbformat": 4,
 "nbformat_minor": 2
}
