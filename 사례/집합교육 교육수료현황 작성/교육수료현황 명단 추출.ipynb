{
 "cells": [
  {
   "attachments": {},
   "cell_type": "markdown",
   "metadata": {},
   "source": [
    "- 웹드라이버/라이브러리 불러오기"
   ]
  },
  {
   "cell_type": "code",
   "execution_count": null,
   "metadata": {},
   "outputs": [],
   "source": [
    "from selenium import webdriver\n",
    "from selenium.webdriver.common.by import By\n",
    "import pyautogui as pg\n",
    "import pandas as pd"
   ]
  },
  {
   "cell_type": "code",
   "execution_count": null,
   "metadata": {},
   "outputs": [],
   "source": [
    "t = 115 #'총교육시간(계산용)'\n",
    "p = 14000 #'시간당 표준단가(계산용)'\n",
    "cn = '22-003차 포스코그룹 신입사원 입문교육'"
   ]
  },
  {
   "attachments": {},
   "cell_type": "markdown",
   "metadata": {},
   "source": [
    "- 러닝플랫폼 접속"
   ]
  },
  {
   "cell_type": "code",
   "execution_count": null,
   "metadata": {},
   "outputs": [],
   "source": [
    "# 계정입력 \n",
    "lp_id = \"user@poscohrd.com\"\n",
    "lp_pw = pg.password(title=\"lp패스워드\", text=\"패스워드 입력하기\")\n",
    "\n",
    "#러닝플랫폼 접속\n",
    "url = 'https://lp.posco.co.kr/S22/S22A10/member/login/loginForm.do'\n",
    "driver = webdriver.Chrome('chromedriver')\n",
    "driver.get(url)\n",
    "driver.maximize_window()\n",
    "\n",
    "# 접속후, 로그인\n",
    "driver.find_element(By.XPATH,'//*[@id=\"email\"]').send_keys(lp_id)\n",
    "driver.find_element(By.XPATH,'//*[@id=\"password\"]').send_keys(lp_pw)\n",
    "driver.find_element(By.XPATH,'//*[@id=\"loginForm\"]/div[2]/button').click()\n",
    "\n",
    "# 로그인 이후, 대기시간 지정\n",
    "pg.sleep(3)\n",
    "\n",
    "# 홍보 팝업창 off / 바뀜\n",
    "driver.find_element(By.XPATH,'//*[@id=\"div_4326\"]/div/div[2]/button[1]').click()\n",
    "\n",
    "# 로그인 이후, 대기시간 지정\n",
    "pg.sleep(3)\n"
   ]
  },
  {
   "attachments": {},
   "cell_type": "markdown",
   "metadata": {},
   "source": [
    "교육담당자모드 선택"
   ]
  },
  {
   "cell_type": "code",
   "execution_count": null,
   "metadata": {},
   "outputs": [],
   "source": [
    "#프로필에서 교육담당자 모드 선택\n",
    "driver.find_element(By.XPATH,'//*[@id=\"btnMy\"]').click()\n",
    "driver.find_element(By.XPATH,'/html/body/header/div[2]/div[4]/select/option[1]').click()\n",
    "driver.find_element(By.XPATH,'/html/body/header/div[2]/div[4]/select/option[2]').click()"
   ]
  },
  {
   "cell_type": "code",
   "execution_count": null,
   "metadata": {},
   "outputs": [],
   "source": [
    "# [과정관리]-[과정차수]로 이동\n",
    "url = 'https://lp.posco.co.kr/S22/S22A10/admin/course/courseCs.do'\n",
    "driver.get(url)\n",
    "\n",
    "# [교육기간]-[전체] / [담당자]-[전체] 선택\n",
    "xp = '//*[@id=\"searchForm\"]/div/ul/li/input[1]'\n",
    "driver.find_element(By.XPATH,xp).click()\n",
    "\n",
    "xp = '//*[@id=\"MyManager\"]/option[1]'\n",
    "driver.find_element(By.XPATH,xp).click()\n",
    "\n",
    "# 찾고자 하는 [교육차수] 검색\n",
    "xp = '//*[@id=\"keyword\"]'\n",
    "driver.find_element(By.XPATH,xp).click()\n",
    "\n",
    "# 찾고자 하는 [교육차수명] 입력\n",
    "xp = '//*[@id=\"btnView1\"]'\n",
    "search_key = cn # 상단에 [코스네임으로 변수 저장]\n",
    "driver.find_element(By.XPATH,'//*[@id=\"keyword\"]').send_keys(search_key)\n",
    "driver.find_element(By.XPATH,xp).click()\n",
    "\n",
    "pg.sleep(3)\n",
    "\n",
    "# 찾은 [교육차수명] 선택\n",
    "xp = '//*[@id=\"grid\"]/tbody/tr/td[3]/a'\n",
    "driver.find_element(By.XPATH,xp).click()\n",
    "\n",
    "# [운영관리] 이동\n",
    "xp = '//*[@id=\"btnStudentMgnt\"]'\n",
    "driver.find_element(By.XPATH,xp).click()\n",
    "\n",
    "# [2,000개씩 보기] 이동\n",
    "xp = '//*[@id=\"grid_length\"]/label/select/option[7]'\n",
    "driver.find_element(By.XPATH,xp).click()\n",
    "\n",
    "# [엑셀 다운로드] 이동\n",
    "xp = '//*[@id=\"btnExlDwl1\"]'\n",
    "driver.find_element(By.XPATH,xp).click()"
   ]
  },
  {
   "cell_type": "code",
   "execution_count": null,
   "metadata": {},
   "outputs": [],
   "source": [
    "# 교육날짜 쓰기\n",
    "# 교육시작일\n",
    "xp = '//*[@id=\"eduStartDt\"]' \n",
    "sdt = driver.find_element(By.XPATH,xp).text\n",
    "# 교육종료일\n",
    "xp = '//*[@id=\"eduEndDt\"]' \n",
    "edt =driver.find_element(By.XPATH,xp).text\n"
   ]
  },
  {
   "cell_type": "code",
   "execution_count": null,
   "metadata": {},
   "outputs": [],
   "source": [
    "# [엑셀 열기] 이동\n",
    "df = pd.read_excel(\"D:\\Downloads\\입과자 리스트.xls\")\n",
    "# df.head(10) # 헤드로부터 10행까지 한다면, 확인\n",
    "df"
   ]
  },
  {
   "cell_type": "code",
   "execution_count": null,
   "metadata": {},
   "outputs": [],
   "source": [
    "# 해당 열만 선택(열은 0-기준 / 행은 unname 기준)\n",
    "df.loc[0]\n",
    "df2 = df.drop(1) #drop은 삭제 #모르면 df, df2, df3으로 확인해보기\n",
    "df3 = df2.rename(columns=df.loc[0])\n",
    "df4 = df3.drop(0)\n",
    "df5 = df4[['이름','직번','회사']]\n",
    "df5"
   ]
  },
  {
   "cell_type": "code",
   "execution_count": null,
   "metadata": {},
   "outputs": [],
   "source": [
    "cc = pd.read_excel('회사명_코드_리스트.xlsx')\n",
    "cc"
   ]
  },
  {
   "cell_type": "code",
   "execution_count": null,
   "metadata": {},
   "outputs": [],
   "source": [
    "member = pd.merge(df5,cc,how='left',on='회사')\n",
    "member"
   ]
  },
  {
   "cell_type": "code",
   "execution_count": null,
   "metadata": {},
   "outputs": [],
   "source": [
    "member.drop('Unnamed: 0',1,inplace=True) #drop은 삭제 #모르면 df, df2, df3으로 확인해보기"
   ]
  },
  {
   "cell_type": "code",
   "execution_count": null,
   "metadata": {},
   "outputs": [],
   "source": [
    "idx = member[(member[\"c_code\"].isnull())].index\n",
    "member.drop(idx,inplace=True) #inplace는 변경된 내용을 원본 데이터에 반영\n",
    "member"
   ]
  },
  {
   "cell_type": "code",
   "execution_count": null,
   "metadata": {},
   "outputs": [],
   "source": [
    "member['c_code']=member['c_code'].astype('int')\n",
    "member"
   ]
  },
  {
   "cell_type": "code",
   "execution_count": null,
   "metadata": {},
   "outputs": [],
   "source": [
    "member['월'] = 12\n",
    "member['활동센터'] = 'C221064_포스코그룹 경력사원 입문교육'\n",
    "member['분류'] = '사외위탁'\n",
    "member['유형'] = '위탁'\n",
    "member['필수/구분'] = '필수'\n",
    "member['교육과정명_통합'] = '포스코그룹 경력사원 입문교육'\n",
    "member['교육과정명'] = cn\n",
    "member['교육기간From'] = sdt\n",
    "member['교육기간To'] = edt\n",
    "member['총교육시간'] = 115 #t\n",
    "member['시간당 표준단가'] = 14000 #p\n",
    "member['수료여부'] = '수료'\n",
    "member['고용보험 환급여부'] = 'X'\n",
    "member['교육과정 中 특이사항'] = ' '\n",
    "member['운영부서'] = '리더십교육그룹'\n",
    "member['운영담당자'] = '공승규'\n",
    "member['소속해외법인'] = ' '\n",
    "member['해외법인부담(Usd)'] = ' '\n",
    "member['해외법인부담(Krw)'] = 0\n",
    "member['교육비'] = t*p\n",
    "member['교육비해외법인'] = t*p-0 #엑셀수식 참고"
   ]
  },
  {
   "cell_type": "code",
   "execution_count": null,
   "metadata": {},
   "outputs": [],
   "source": [
    "member2 = member[['월','구분','활동센터','분류','유형','필수/구분','교육과정명_통합','교육과정명','교육기간From','교육기간To','시간당 표준단가','c_code','company','이름','직번','수료여부','고용보험 환급여부','교육과정 中 특이사항','운영부서','운영담당자','소속해외법인','해외법인부담(Usd)','해외법인부담(Krw)','교육비','교육비해외법인']]\n",
    "member2.to_excel('11월 교육수료현황.xlsx')"
   ]
  }
 ],
 "metadata": {
  "kernelspec": {
   "display_name": "Python 3",
   "language": "python",
   "name": "python3"
  },
  "language_info": {
   "codemirror_mode": {
    "name": "ipython",
    "version": 3
   },
   "file_extension": ".py",
   "mimetype": "text/x-python",
   "name": "python",
   "nbconvert_exporter": "python",
   "pygments_lexer": "ipython3",
   "version": "3.8.10"
  },
  "orig_nbformat": 4,
  "vscode": {
   "interpreter": {
    "hash": "e2782e0ab7cab974e8fb2dfc8cec048a29dc3b50e54743df0c4a34ac41b2be7e"
   }
  }
 },
 "nbformat": 4,
 "nbformat_minor": 2
}
