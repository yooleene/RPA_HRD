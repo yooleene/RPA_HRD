{
 "cells": [
  {
   "cell_type": "markdown",
   "metadata": {},
   "source": [
    "## 과제명: 기간별 강의의뢰서 첨부파일 다운로드 자동화"
   ]
  },
  {
   "cell_type": "markdown",
   "metadata": {},
   "source": [
    "### T1 : 정보 입력"
   ]
  },
  {
   "cell_type": "markdown",
   "metadata": {},
   "source": [
    "- 패키지 import"
   ]
  },
  {
   "cell_type": "code",
   "execution_count": null,
   "metadata": {},
   "outputs": [],
   "source": [
    "import pyautogui as pg\n",
    "from selenium import webdriver\n",
    "from selenium.webdriver.common.by import By\n",
    "from selenium.webdriver.common.keys import Keys\n",
    "from selenium.webdriver.support.ui import Select\n",
    "from bs4 import BeautifulSoup as bs4\n",
    "import pandas as pd"
   ]
  },
  {
   "cell_type": "markdown",
   "metadata": {},
   "source": [
    "- EP 계정 정보 입력(ID, PASS)"
   ]
  },
  {
   "cell_type": "code",
   "execution_count": null,
   "metadata": {},
   "outputs": [],
   "source": [
    "my_id = 'user_id'\n",
    "my_pw = pg.password(title='EP_PASS', text='패스워드를 입력하세요', default='')"
   ]
  },
  {
   "cell_type": "markdown",
   "metadata": {},
   "source": [
    "- 검색 정보입력\n",
    "   - 검색 키워드: '강의의뢰서'\n",
    "   - 검색 기간 : 현재 ~ 필요일자(형식:'2022-11-01')"
   ]
  },
  {
   "cell_type": "code",
   "execution_count": null,
   "metadata": {},
   "outputs": [],
   "source": [
    "search_key = '강의의뢰서'\n",
    "search_date = '2022-11-20'"
   ]
  },
  {
   "cell_type": "markdown",
   "metadata": {},
   "source": [
    "### T2 : EP 접속 및 로그인"
   ]
  },
  {
   "cell_type": "markdown",
   "metadata": {},
   "source": [
    "- EP 접속"
   ]
  },
  {
   "cell_type": "code",
   "execution_count": null,
   "metadata": {},
   "outputs": [],
   "source": [
    "url = 'http://swpsso.posco.net/idms/U61/jsp/login/login.jsp'\n",
    "\n",
    "driver = webdriver.Edge('d:/작업방/msedgedriver')\n",
    "driver.get(url)\n",
    "driver.implicitly_wait(10) #드라이버가 로딩되는데 10초까지 대기, 빨리 로딩되면 다음 코드 진행\n",
    "driver.maximize_window()"
   ]
  },
  {
   "cell_type": "markdown",
   "metadata": {},
   "source": [
    "- 계정 입력"
   ]
  },
  {
   "cell_type": "code",
   "execution_count": null,
   "metadata": {},
   "outputs": [],
   "source": [
    "driver.find_element(By.XPATH,'//*[@id=\"username\"]').send_keys(my_id)\n",
    "driver.find_element(By.XPATH,'//*[@id=\"password\"]').send_keys(my_pw)\n",
    "driver.find_element(By.XPATH,'//*[@id=\"loginsubmit\"]').click()\n"
   ]
  },
  {
   "cell_type": "markdown",
   "metadata": {},
   "source": [
    "- 예외처리 : 기존 로그인 경고창이 열릴 경우 alert accept 처리"
   ]
  },
  {
   "cell_type": "code",
   "execution_count": null,
   "metadata": {},
   "outputs": [],
   "source": [
    "pg.sleep(5)\n",
    "try:  \n",
    "    alert=driver.switch_to.alert #to_alert --> _는 구버전으로 크롬에서 안됨\n",
    "    alert.accept()\n",
    "except:\n",
    "    print(\"기존 로그인 경고창 없음. 계속 진행.\")  # 경고창이 열리지 않을 경우"
   ]
  },
  {
   "cell_type": "markdown",
   "metadata": {},
   "source": [
    "- 예외처리 : 현재 활성화된 드라이버 창 확인하여 SSO Notice 창 닫기 "
   ]
  },
  {
   "cell_type": "code",
   "execution_count": null,
   "metadata": {},
   "outputs": [],
   "source": [
    "pg.sleep(2) #슬립이 없으면 에러\n",
    "\n",
    "try:\n",
    "      for i in reversed(range(len(driver.window_handles))):\n",
    "            driver.switch_to.window(driver.window_handles[i])\n",
    "            if driver.title != 'EP(Enterprise Portal)':\n",
    "                  driver.close()\n",
    "except:\n",
    "    print(\"팝업창 없음-계속 진행\")  # 팝업창이 하나도 없을 경우"
   ]
  },
  {
   "cell_type": "markdown",
   "metadata": {},
   "source": [
    "### T3 : 메일 검색"
   ]
  },
  {
   "cell_type": "markdown",
   "metadata": {},
   "source": [
    "- 메일 화면 열기"
   ]
  },
  {
   "cell_type": "code",
   "execution_count": null,
   "metadata": {},
   "outputs": [],
   "source": [
    "pg.sleep(5) #로그인 되는 시간을 충분히 줌\n",
    "\n",
    "driver.switch_to.window(driver.window_handles[-1]) #최근창으로 전환\n",
    "driver.find_element(By.XPATH,\"//*[@id='533982']\").click()"
   ]
  },
  {
   "cell_type": "markdown",
   "metadata": {},
   "source": [
    "- 메일 검색 : 강의의뢰서"
   ]
  },
  {
   "cell_type": "code",
   "execution_count": null,
   "metadata": {},
   "outputs": [],
   "source": [
    "pg.sleep(3)\n",
    "\n",
    "driver.switch_to.window(driver.window_handles[-1]) #최근창으로 전환\n",
    "driver.find_element(By.XPATH,'//*[@id=\"Query\"]').send_keys(search_key)\n",
    "driver.find_element(By.XPATH,'//*[@id=\"Query\"]').send_keys(Keys.ENTER)"
   ]
  },
  {
   "cell_type": "markdown",
   "metadata": {},
   "source": [
    "- 메일 목록 추출"
   ]
  },
  {
   "cell_type": "code",
   "execution_count": null,
   "metadata": {},
   "outputs": [],
   "source": [
    "pg.sleep(1)\n",
    "soup = bs4(driver.page_source, \"html.parser\")\n",
    "#테이블 가져오기\n",
    "table = soup.select('#dis') #테이블에 id 값이 없어서 상위의 div의 id갑 사용\n",
    "table_html = str(table) #판다스로 HTML을 읽기 위해 str으로 변환\n",
    "df = pd.read_html(table_html) #판다스로 HTML 읽기\n",
    "df_01 = df[0] #데이터 프레임이 리스트 안에 있어서 0번만 가져옴\n",
    "print(df_01)"
   ]
  },
  {
   "cell_type": "markdown",
   "metadata": {},
   "source": [
    "- 기간 내 데이터 추출"
   ]
  },
  {
   "cell_type": "code",
   "execution_count": null,
   "metadata": {},
   "outputs": [],
   "source": [
    "pg.sleep(1)\n",
    "df_02 = df_01.loc[(df_01['날짜'] >= search_date) | (df_01['날짜'] <= '1900.01.01')] #현재일은 시간만 나오므로 1900년보다 작은 것으로 검색\n",
    "print(df_02)"
   ]
  },
  {
   "cell_type": "markdown",
   "metadata": {},
   "source": [
    "- 최종 추출 목록 count"
   ]
  },
  {
   "cell_type": "code",
   "execution_count": null,
   "metadata": {},
   "outputs": [],
   "source": [
    "mail_cnt = len(df_02)\n",
    "mail_cnt "
   ]
  },
  {
   "cell_type": "markdown",
   "metadata": {},
   "source": [
    "### T4 : 첨부파일 다운로드"
   ]
  },
  {
   "cell_type": "markdown",
   "metadata": {},
   "source": [
    "- 메일 제목 엘리먼트 선택"
   ]
  },
  {
   "cell_type": "code",
   "execution_count": null,
   "metadata": {},
   "outputs": [],
   "source": [
    "select = '#dis tr > td:nth-child(7) > a:nth-child(2)' #새창보기로 선택\n",
    "titles = driver.find_elements(By.CSS_SELECTOR, select)"
   ]
  },
  {
   "cell_type": "markdown",
   "metadata": {},
   "source": [
    "- 제목 클릭 및 첨부파일 다운로드"
   ]
  },
  {
   "cell_type": "code",
   "execution_count": null,
   "metadata": {},
   "outputs": [],
   "source": [
    "for i in range(0, mail_cnt):\n",
    "      titles[i].click() #메일제목 클릭\n",
    "      pg.sleep(2)\n",
    "      driver.switch_to.window(driver.window_handles[-1]) #최근창으로 전환\n",
    "\n",
    "      try:\n",
    "          driver.find_element(By.XPATH,'//*[@id=\"download_all\"]').click() #첨부 다운로드 클릭\n",
    "          pg.sleep(3)\n",
    "          #다운로드 허용 클릭(첫번째만 동작)\n",
    "          btn_pass = pg.locateCenterOnScreen('btn_pass.png')\n",
    "          if btn_pass != None: pg.click(btn_pass)\n",
    "      except:\n",
    "          print(\"첨부파일이 없으면 다음으로 넘어가세요\")  # 첨부파일이 없을 경우\n",
    "\n",
    "      pg.sleep(5) #다운 받는 시간 필요   \n",
    "      driver.close()\n",
    "      driver.switch_to.window(driver.window_handles[-1]) #최근창으로 전환\n",
    "      pg.sleep(1)"
   ]
  }
 ],
 "metadata": {
  "kernelspec": {
   "display_name": "Python 3.8.10 64-bit",
   "language": "python",
   "name": "python3"
  },
  "language_info": {
   "codemirror_mode": {
    "name": "ipython",
    "version": 3
   },
   "file_extension": ".py",
   "mimetype": "text/x-python",
   "name": "python",
   "nbconvert_exporter": "python",
   "pygments_lexer": "ipython3",
   "version": "3.8.10"
  },
  "orig_nbformat": 4,
  "vscode": {
   "interpreter": {
    "hash": "e2782e0ab7cab974e8fb2dfc8cec048a29dc3b50e54743df0c4a34ac41b2be7e"
   }
  }
 },
 "nbformat": 4,
 "nbformat_minor": 2
}
