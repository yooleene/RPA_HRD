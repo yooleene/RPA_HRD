{
 "cells": [
  {
   "attachments": {},
   "cell_type": "markdown",
   "metadata": {},
   "source": [
    "### 패키지 불러오기"
   ]
  },
  {
   "cell_type": "code",
   "execution_count": null,
   "metadata": {},
   "outputs": [],
   "source": [
    "import pandas as pd\n",
    "import pyautogui as pg\n",
    "import win32com.client\n",
    "from selenium import webdriver\n",
    "from selenium.webdriver.common.by import By\n",
    "from selenium.webdriver.common.keys import Keys\n",
    "import clipboard\n",
    "import math"
   ]
  },
  {
   "attachments": {},
   "cell_type": "markdown",
   "metadata": {},
   "source": [
    "### EP 로그인"
   ]
  },
  {
   "cell_type": "code",
   "execution_count": null,
   "metadata": {},
   "outputs": [],
   "source": [
    "my_id = pg.prompt(title=\"id\")\n",
    "my_pw = pg.password(title=\"EP_PASS\", text=\"패스워드를 입력하세요\", default=\"\")\n",
    "\n",
    "url = \"http://swpsso.posco.net/idms/U61/jsp/login/login.jsp\"\n",
    "\n",
    "driver = webdriver.Edge(\"msedgedriver\")\n",
    "\n",
    "\n",
    "driver.get(url)\n",
    "driver.maximize_window()\n",
    "\n",
    "driver.find_element(By.XPATH,'//*[@id=\"username\"]').send_keys(my_id)\n",
    "driver.find_element(By.XPATH, '//*[@id=\"password\"]').send_keys(my_pw)\n",
    "driver.find_element(By.XPATH, '//*[@id=\"loginsubmit\"]').click()\n",
    "driver.implicitly_wait(10)\n",
    "\n",
    "pg.sleep(5)\n",
    "try:\n",
    "    alert=driver.switch_to.alert # alert(경고창) 허용\n",
    "    alert.accept()\n",
    "except:\n",
    "    print(\"기존 로그인 경고창 없음.\")\n",
    "\n",
    "pg.sleep(2) #슬립이 없으면 에러\n",
    "try:\n",
    "    for i in reversed(range(len(driver.window_handles))): # 현재 활성화된 웹드라이버 핸들 중 제목이 EP가 아닌 드라이버는 종료\n",
    "        driver.switch_to.window(driver.window_handles[i])\n",
    "        if driver.title != 'EP(Enterprise Portal)':\n",
    "            driver.close()\n",
    "except:\n",
    "    print(\"팝업창 없음-계속 진행\")"
   ]
  },
  {
   "attachments": {},
   "cell_type": "markdown",
   "metadata": {},
   "source": [
    "### 엑셀 데이터 활용 \n",
    "- 엑셀파일 열기"
   ]
  },
  {
   "cell_type": "code",
   "execution_count": null,
   "metadata": {},
   "outputs": [],
   "source": [
    "pg.hotkey('win','r') # 윈도우 실행\n",
    "pg.write('D:\\RPA\\PIUM_list(test).xls') # 엑셀 경로 및 파일명 입력\n",
    "pg.sleep(2)\n",
    "pg.press('enter')\n",
    "pg.sleep(5)\n",
    "\n",
    "win=pg.getWindowsWithTitle('PIUM_list(test)')[0] # 해당 파일의 이름을 가진 창을 확대\n",
    "if win.isMaximized == False:\n",
    "    win.maximize()\n"
   ]
  },
  {
   "cell_type": "markdown",
   "metadata": {},
   "source": [
    "- 엑셀파일 복사해서 파이썬에서 판다스로 읽기"
   ]
  },
  {
   "cell_type": "code",
   "execution_count": null,
   "metadata": {},
   "outputs": [],
   "source": [
    "win.activate()\n",
    "\n",
    "pg.hotkey('ctrl','home') # 워크시트 처음으로 이동\n",
    "pg.hotkey('ctrl','a') # 전체 선택\n",
    "pg.hotkey('ctrl','c') # 복사\n",
    "\n",
    "list = pd.read_clipboard() # 클립보드에 복사한 내용을 파이썬 pandas로 읽기\n",
    "\n",
    "list\n"
   ]
  },
  {
   "cell_type": "markdown",
   "metadata": {},
   "source": [
    "- 참석방법 변수 지정"
   ]
  },
  {
   "cell_type": "code",
   "execution_count": null,
   "metadata": {},
   "outputs": [],
   "source": [
    "lp = '러닝플랫폼'\n",
    "con = '사운영회의'"
   ]
  },
  {
   "attachments": {},
   "cell_type": "markdown",
   "metadata": {},
   "source": [
    "### 러닝플랫폼 Sorting하여 메일 보내기"
   ]
  },
  {
   "cell_type": "markdown",
   "metadata": {},
   "source": [
    "- 참석방법 : 러닝플랫폼으로 Sorting"
   ]
  },
  {
   "cell_type": "code",
   "execution_count": null,
   "metadata": {},
   "outputs": [],
   "source": [
    "list_lp = list.loc[(list['참석방법'] == lp)] # 참석방법 Column에서 lp(러닝플랫폼)인 자료만 선택하여 list_lp변수에 저장\n",
    "\n",
    "list_lp.loc[:, '이메일'] # list_lp자료 중 이메일 column만 sorting\n",
    "\n",
    "email_lp=[] # 빈 리스트 생성\n",
    "for i in list_lp.loc[:, '이메일']: # for문으로 이메일 column에 있는 이메일 하나씩 꺼내기\n",
    "    email_lp.append(i)\n",
    "\n",
    "list_lp.loc[:, '이메일']\n",
    "\n",
    "eqa1 = math.ceil(len(list_lp)/200) # list_lp의 이메일 총 갯수에서 200개씩 나누어서 메일 보내야 할 횟수 지정"
   ]
  },
  {
   "cell_type": "markdown",
   "metadata": {},
   "source": [
    "- 메일 아이콘 클릭하여 메일화면으로 접속"
   ]
  },
  {
   "cell_type": "code",
   "execution_count": null,
   "metadata": {},
   "outputs": [],
   "source": [
    "driver.switch_to.window(driver.window_handles[-1]) # EP 창으로 전환\n",
    "\n",
    "driver.find_element(By.XPATH,'//*[@id=\"533982\"]/a[1]/span[1]/img').click() # 메일 아이콘 클릭\n",
    "pg.sleep(3)\n",
    "\n",
    "driver.switch_to.window(driver.window_handles[-1]) # 메일 창으로 전환"
   ]
  },
  {
   "cell_type": "markdown",
   "metadata": {},
   "source": [
    "- 메일 본문 작성"
   ]
  },
  {
   "cell_type": "code",
   "execution_count": null,
   "metadata": {},
   "outputs": [],
   "source": [
    "mail_num1 = 0\n",
    "\n",
    "for i in range(eqa1):\n",
    "    email_1=email_lp[mail_num1:mail_num1+200] # 슬라이싱(0~199번, 총 200개씩)\n",
    "    email_1r=str(email_1).replace('[','').replace(']','') # 리스트 형태에서 [] 제거\n",
    "    \n",
    "    driver.switch_to.window(driver.window_handles[-1]) # 메일 창으로 전환 ------ 이게 빠져있어서 에러가 났나봅니다 ㅠㅠ\n",
    "    driver.find_element(By.XPATH,'//*[@id=\"Lnb\"]/div[1]/a').click() # 메일쓰기 아이콘 클릭\n",
    "\n",
    "    pg.sleep(2)\n",
    "\n",
    "    driver.switch_to.window(driver.window_handles[-1]) #메일쓰기 창으로 전환\n",
    "    driver.find_element(By.XPATH,'//*[@id=\"token-input-send_to\"]').send_keys(email_1r) # 받는 사람에 email_1r변수에 저장된 이메일 목록 붙이기\n",
    "    \n",
    "    pg.sleep(0.5)\n",
    "    win=pg.getWindowsWithTitle('메일쓰기')[0] # 메일 쓰기 창을 가져와서 활성화\n",
    "    win.activate()\n",
    "    \n",
    "    pg.press('enter')\n",
    "    pg.sleep(1)\n",
    "\n",
    "    title_lp = '[안내] PIUM과정 참석 안내(12.8/목 07:30~09:00) *참석방법: 러닝플랫폼' # 메일 제목 내용을 변수로 지정\n",
    "    title_con = '[안내] PIUM과정 참석 안내(12.8/목 07:30~09:00) *참석방법: 사운영회의'\n",
    "\n",
    "    driver.find_element(By.XPATH,'//*[@id=\"write_send_info\"]/table[2]/tbody/tr[1]/td/input').send_keys(title_lp) # 메일 제목 붙이기\n",
    "    pg.sleep(2)\n",
    "    pg.press('tab', presses = 3)\n",
    "\n",
    "    pg.hotkey('win','r') # 윈도우 실행버튼\n",
    "    pg.write('D:\\RPA\\PIUM_mail.pptx') # '폴더경로\\파일명' 입력\n",
    "    pg.sleep(2)\n",
    "    pg.press('enter')\n",
    "    pg.sleep(5)\n",
    "\n",
    "    win=pg.getWindowsWithTitle('PIUM_mail')[0] # ()안의 파일명과 동일한 창을 가져와서 창 최대화\n",
    "    if win.isMaximized == False:\n",
    "        win.maximize()\n",
    "\n",
    "    pg.hotkey('ctrl','a') # 전체 선택\n",
    "    pg.hotkey('ctrl','c') # 복사\n",
    "    pg.sleep(2)\n",
    "\n",
    "    win=pg.getWindowsWithTitle('메일쓰기')[0] # 메일 쓰기 창을 가져와서 활성화\n",
    "    win.activate()\n",
    "\n",
    "    pg.sleep(2)\n",
    "    pg.press('tab') # 메일 제목에 있던 커서가 tab키 두번 눌러서 본문으로 이동\n",
    "    pg.sleep(2)\n",
    "    pg.hotkey('ctrl','v') # 위에서 복사해온 내용 붙여넣기\n",
    "\n",
    "    pg.sleep(2)\n",
    "\n",
    "    pg.press('tab',presses=11) # html 파일 붙여넣기\n",
    "    pg.sleep(2)\n",
    "    pg.press('enter')\n",
    "\n",
    "    win=pg.getWindowsWithTitle('PIUM_mail')[0]\n",
    "    win.activate()\n",
    "\n",
    "    pg.press('PgDn') # 파워포인트 2번째 슬라이드로 이동\n",
    "    pg.hotkey('ctrl','a')\n",
    "    pg.hotkey('ctrl','c')\n",
    "    pg.sleep(2)\n",
    "\n",
    "    win_m=pg.getWindowsWithTitle('메일쓰기')[0] # 메일쓰기 창으로 이동\n",
    "    win_m.activate()\n",
    "\n",
    "    pg.sleep(2)\n",
    "    pg.press('down') # 파워포인트 3번째 슬라이드 이동\n",
    "    pg.hotkey('ctrl','v')\n",
    "\n",
    "    pg.sleep(2)\n",
    "\n",
    "    pg.press('tab',presses=5) # 이미지 붙여넣기\n",
    "    pg.sleep(2)\n",
    "    pg.write('700') # 이미지 사이즈 조정\n",
    "    pg.sleep(2)\n",
    "    pg.press('tab',presses=5) # 이미지 붙여넣기 버튼 클릭            \n",
    "    pg.press('enter')\n",
    "    pg.sleep(1)\n",
    "\n",
    "    win.close()\n",
    "    pg.sleep(1)\n",
    "\n",
    "    driver.find_element(By.XPATH,'//*[@id=\"memo_content\"]/div[1]/ul[1]/li[1]/a').click()\n",
    "\n",
    "    pg.sleep(3)\n",
    "    try:\n",
    "        alert=driver.switch_to.alert\n",
    "        alert.accept()\n",
    "    except:\n",
    "        print(\"발송확인 창 없음\")\n",
    "    \n",
    "    pg.sleep(3)\n",
    "\n",
    "\n",
    "    mail_num1+=200\n"
   ]
  },
  {
   "attachments": {},
   "cell_type": "markdown",
   "metadata": {},
   "source": [
    "### 사운영회의 Sorting하여 메일 보내기"
   ]
  },
  {
   "cell_type": "markdown",
   "metadata": {},
   "source": [
    "- 참석방법 : 사운영회의로 Sorting"
   ]
  },
  {
   "cell_type": "code",
   "execution_count": null,
   "metadata": {},
   "outputs": [],
   "source": [
    "list_con = list.loc[(list['참석방법'] == con)]\n",
    "\n",
    "list_con.loc[:, '이메일']\n",
    "\n",
    "email_con=[]\n",
    "for i in list_con.loc[:, '이메일']:\n",
    "    email_con.append(i)\n",
    "\n",
    "list_con.loc[:, '이메일']\n",
    "\n",
    "eqa2 = math.ceil(len(list_con)/200)"
   ]
  },
  {
   "cell_type": "markdown",
   "metadata": {},
   "source": [
    "- 메일 아이콘 클릭하여 메일화면으로 접속"
   ]
  },
  {
   "cell_type": "code",
   "execution_count": null,
   "metadata": {},
   "outputs": [],
   "source": [
    "driver.switch_to.window(driver.window_handles[-1]) # EP 창으로 전환\n",
    "\n",
    "driver.find_element(By.XPATH,'//*[@id=\"533982\"]/a[1]/span[1]/img').click() # 메일 아이콘 클릭\n",
    "pg.sleep(3)\n",
    "\n",
    "driver.switch_to.window(driver.window_handles[-1]) # 메일 창으로 전환"
   ]
  },
  {
   "cell_type": "markdown",
   "metadata": {},
   "source": [
    "- 메일 본문 작성"
   ]
  },
  {
   "cell_type": "code",
   "execution_count": null,
   "metadata": {},
   "outputs": [],
   "source": [
    "mail_num2 = 0\n",
    "\n",
    "for i in range(eqa2):\n",
    "    email_2=email_lp[mail_num2:mail_num2+200]\n",
    "    email_2r=str(email_2).replace('[','').replace(']','')\n",
    "    \n",
    "    driver.switch_to.window(driver.window_handles[-1]) # 메일 창으로 전환 ------ 이게 빠져있어서 에러가 났나봅니다 ㅠㅠ\n",
    "    driver.find_element(By.XPATH,'//*[@id=\"Lnb\"]/div[1]/a').click() # 메일쓰기 아이콘 클릭\n",
    "\n",
    "    pg.sleep(2)\n",
    "\n",
    "    driver.switch_to.window(driver.window_handles[-1]) #메일쓰기 창으로 전환\n",
    "    driver.find_element(By.XPATH,'//*[@id=\"token-input-send_to\"]').send_keys(email_2r) # 받는 사람에 email_1r변수에 저장된 이메일 목록 붙이기\n",
    "    \n",
    "    pg.sleep(0.5)\n",
    "    win=pg.getWindowsWithTitle('메일쓰기')[0] # 메일 쓰기 창을 가져와서 활성화\n",
    "    win.activate()\n",
    "    \n",
    "    pg.press('enter')\n",
    "    pg.sleep(1)\n",
    "\n",
    "    title_lp = '[안내] PIUM과정 참석 안내(12.8/목 07:30~09:00) *참석방법: 러닝플랫폼' # 메일 제목 내용을 변수로 지정\n",
    "    title_con = '[안내] PIUM과정 참석 안내(12.8/목 07:30~09:00) *참석방법: 사운영회의'\n",
    "\n",
    "    driver.find_element(By.XPATH,'//*[@id=\"write_send_info\"]/table[2]/tbody/tr[1]/td/input').send_keys(title_lp) # 메일 제목 붙이기\n",
    "    pg.sleep(2)\n",
    "    pg.press('tab', presses = 3)\n",
    "\n",
    "    pg.hotkey('win','r') # 윈도우 실행버튼\n",
    "    pg.write('D:\\RPA\\PIUM_mail.pptx') # '폴더경로\\파일명' 입력\n",
    "    pg.sleep(2)\n",
    "    pg.press('enter')\n",
    "    pg.sleep(5)\n",
    "\n",
    "    win=pg.getWindowsWithTitle('PIUM_mail')[0] # ()안의 파일명과 동일한 창을 가져와서 창 최대화\n",
    "    if win.isMaximized == False:\n",
    "        win.maximize()\n",
    "\n",
    "    pg.hotkey('ctrl','a') # 전체 선택\n",
    "    pg.hotkey('ctrl','c') # 복사\n",
    "    pg.sleep(2)\n",
    "\n",
    "    win=pg.getWindowsWithTitle('메일쓰기')[0] # 메일 쓰기 창을 가져와서 활성화\n",
    "    win.activate()\n",
    "\n",
    "    pg.sleep(2)\n",
    "    pg.press('tab') # 메일 제목에 있던 커서가 tab키 두번 눌러서 본문으로 이동\n",
    "    pg.sleep(2)\n",
    "    pg.hotkey('ctrl','v') # 위에서 복사해온 내용 붙여넣기\n",
    "\n",
    "    pg.sleep(2)\n",
    "\n",
    "    pg.press('tab',presses=11) # html 파일 붙여넣기\n",
    "    pg.sleep(2)\n",
    "    pg.press('enter')\n",
    "\n",
    "    win=pg.getWindowsWithTitle('PIUM_mail')[0]\n",
    "    win.activate()\n",
    "\n",
    "    pg.press('PgDn') # 파워포인트 2번째 슬라이드로 이동\n",
    "    pg.hotkey('ctrl','a')\n",
    "    pg.hotkey('ctrl','c')\n",
    "    pg.sleep(2)\n",
    "\n",
    "    win_m=pg.getWindowsWithTitle('메일쓰기')[0] # 메일쓰기 창으로 이동\n",
    "    win_m.activate()\n",
    "\n",
    "    pg.sleep(2)\n",
    "    pg.press('down') # 파워포인트 3번째 슬라이드 이동\n",
    "    pg.hotkey('ctrl','v')\n",
    "\n",
    "    pg.sleep(2)\n",
    "\n",
    "    pg.press('tab',presses=5) # 이미지 붙여넣기\n",
    "    pg.sleep(2)\n",
    "    pg.write('700') # 이미지 사이즈 조정\n",
    "    pg.sleep(2)\n",
    "    pg.press('tab',presses=5) # 이미지 붙여넣기 버튼 클릭            \n",
    "    pg.press('enter')\n",
    "    pg.sleep(1)\n",
    "\n",
    "    win.close()\n",
    "    pg.sleep(1)\n",
    "\n",
    "    driver.find_element(By.XPATH,'//*[@id=\"memo_content\"]/div[1]/ul[1]/li[1]/a').click()\n",
    "\n",
    "    pg.sleep(3)\n",
    "    try:\n",
    "        alert=driver.switch_to.alert\n",
    "        alert.accept()\n",
    "    except:\n",
    "        print(\"발송확인 창 없음\")\n",
    "    \n",
    "    pg.sleep(3)\n",
    "\n",
    "\n",
    "    mail_num2+=200\n"
   ]
  }
 ],
 "metadata": {
  "kernelspec": {
   "display_name": "Python 3.10.5 64-bit",
   "language": "python",
   "name": "python3"
  },
  "language_info": {
   "codemirror_mode": {
    "name": "ipython",
    "version": 3
   },
   "file_extension": ".py",
   "mimetype": "text/x-python",
   "name": "python",
   "nbconvert_exporter": "python",
   "pygments_lexer": "ipython3",
   "version": "3.10.5"
  },
  "orig_nbformat": 4,
  "vscode": {
   "interpreter": {
    "hash": "3bd96f66437242fd6b7d02d9479994fecac8a6f723245191606c48521dadf6d2"
   }
  }
 },
 "nbformat": 4,
 "nbformat_minor": 2
}
