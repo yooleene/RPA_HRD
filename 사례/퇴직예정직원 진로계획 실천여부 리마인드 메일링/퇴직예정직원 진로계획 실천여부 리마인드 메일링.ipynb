{
 "cells": [
  {
   "cell_type": "markdown",
   "metadata": {},
   "source": [
    "### T1 : 엑셀 가공"
   ]
  },
  {
   "cell_type": "markdown",
   "metadata": {},
   "source": [
    "- 엑셀 데이터 열기"
   ]
  },
  {
   "cell_type": "code",
   "execution_count": null,
   "id": "7fcbeeaf",
   "metadata": {},
   "outputs": [],
   "source": [
    "import win32com.client\n",
    "import pandas as pd\n",
    "import pyautogui as pg\n",
    "from selenium import webdriver\n",
    "from selenium.webdriver.common.keys import Keys\n",
    "from selenium.webdriver.common.by import By\n",
    "\n",
    "\n",
    "excel = win32com.client.Dispatch('Excel.Application')\n",
    "excel.Visible = True\n",
    "wb = excel.Workbooks.Open('D:\\작업방\\RPA 과제\\GLD_진로설계서_테스트2.xlsx')"
   ]
  },
  {
   "cell_type": "code",
   "execution_count": null,
   "metadata": {},
   "outputs": [],
   "source": [
    "ws1 = wb.Worksheets('주소록')\n",
    "ws2 = wb.Worksheets('설문')\n",
    "ws3 = wb.Worksheets('진로설계서')"
   ]
  },
  {
   "cell_type": "markdown",
   "metadata": {},
   "source": [
    "- 총 인원수 카운트"
   ]
  },
  {
   "cell_type": "code",
   "execution_count": null,
   "metadata": {},
   "outputs": [],
   "source": [
    "i = 1\n",
    "cell_value = ws1.Cells(i, 1).Value\n",
    "\n",
    "while cell_value != None :\n",
    "      i+=1\n",
    "      cell_value = ws1.Cells(i,1).Value\n",
    "\n",
    "cnt = i-2\n",
    "\n",
    "print(cnt)"
   ]
  },
  {
   "attachments": {},
   "cell_type": "markdown",
   "metadata": {},
   "source": [
    "### T2. EP 접속"
   ]
  },
  {
   "cell_type": "markdown",
   "metadata": {},
   "source": [
    "- EP 계정 정보 입력(ID, PASS)"
   ]
  },
  {
   "cell_type": "code",
   "execution_count": null,
   "metadata": {},
   "outputs": [],
   "source": [
    "my_id = pg.prompt(title = 'ID_PASS', text = '아이디를 입력하세요', default = '')\n",
    "my_pw = pg.password(title='EP_PASS', text='패스워드를 입력하세요', default='')"
   ]
  },
  {
   "cell_type": "markdown",
   "metadata": {},
   "source": [
    "- EP 접속"
   ]
  },
  {
   "cell_type": "code",
   "execution_count": null,
   "metadata": {},
   "outputs": [],
   "source": [
    "url = 'http://swpsso.posco.net/idms/U61/jsp/login/login.jsp'\n",
    "\n",
    "driver = webdriver.Edge('D:\\작업방\\msedgedriver')\n",
    "driver.get(url)\n",
    "driver.maximize_window()\n"
   ]
  },
  {
   "cell_type": "markdown",
   "metadata": {},
   "source": [
    "- 계정 입력"
   ]
  },
  {
   "cell_type": "code",
   "execution_count": null,
   "metadata": {},
   "outputs": [],
   "source": [
    "driver.find_element(By.XPATH,'//*[@id=\"username\"]').send_keys(my_id)\n",
    "driver.find_element(By.XPATH,'//*[@id=\"password\"]').send_keys(my_pw)\n",
    "driver.find_element(By.XPATH,'//*[@id=\"loginsubmit\"]').click()\n",
    "driver.implicitly_wait(10) #드라이버가 로딩되는데 10초까지 대기, 빨리 로딩되면 다음 코드 진행"
   ]
  },
  {
   "cell_type": "markdown",
   "metadata": {},
   "source": [
    "- 예외처리 : 기존 로그인 경고창이 열릴 경우 alert accept 처리"
   ]
  },
  {
   "cell_type": "code",
   "execution_count": null,
   "metadata": {},
   "outputs": [],
   "source": [
    "pg.sleep(5)\n",
    "try:  \n",
    "    alert=driver.switch_to.alert\n",
    "    alert.accept()\n",
    "except:\n",
    "    print(\"기존 로그인 경고창 없음. 계속 진행.\")  # 경고창이 열리지 않을 경우"
   ]
  },
  {
   "cell_type": "markdown",
   "metadata": {},
   "source": [
    "- 예외처리 : 현재 활성화된 드라이버 창 확인하여 SSO Notice 창 닫기 "
   ]
  },
  {
   "cell_type": "code",
   "execution_count": null,
   "metadata": {},
   "outputs": [],
   "source": [
    "pg.sleep(2) #슬립이 없으면 에러\n",
    "\n",
    "try:\n",
    "      for i in reversed(range(len(driver.window_handles))):\n",
    "            driver.switch_to.window(driver.window_handles[i])\n",
    "            if driver.title != 'EP(Enterprise Portal)':\n",
    "                  driver.close()\n",
    "except:\n",
    "    print(\"팝업창 없음-계속 진행\")  # 팝업창이 하나도 없을 경우"
   ]
  },
  {
   "cell_type": "markdown",
   "metadata": {},
   "source": [
    "### T3. EP 메일화면 접속"
   ]
  },
  {
   "cell_type": "markdown",
   "metadata": {},
   "source": [
    "- 메일 화면 열기"
   ]
  },
  {
   "cell_type": "code",
   "execution_count": 119,
   "metadata": {},
   "outputs": [],
   "source": [
    "pg.sleep(5) #로그인 되는 시간을 충분히 줌\n",
    "\n",
    "driver.switch_to.window(driver.window_handles[-1]) #최근창으로 전환\n",
    "driver.find_element(By.XPATH,'//*[@id=\"533982\"]').click()\n"
   ]
  },
  {
   "cell_type": "markdown",
   "metadata": {},
   "source": [
    "- 메일 쓰기 화면 열기"
   ]
  },
  {
   "cell_type": "code",
   "execution_count": null,
   "metadata": {},
   "outputs": [],
   "source": [
    "# pg.sleep(3)\n",
    "\n",
    "# driver.switch_to.window(driver.window_handles[-1]) #최근창으로 전환\n",
    "# driver.find_element(By.XPATH,\"//*[@id='Lnb']/div[1]/a\").click()\n"
   ]
  },
  {
   "attachments": {},
   "cell_type": "markdown",
   "metadata": {},
   "source": [
    "### T4. 메일 보내기\n",
    "- 반복작업(메일쓰기 -> 설계서 양식 만들기 -> 메일 주소,제목 넣기 -> 메일 본문에 양식 넣기 -> 메일 보내기)"
   ]
  },
  {
   "cell_type": "code",
   "execution_count": 121,
   "metadata": {},
   "outputs": [],
   "source": [
    "for c in range(cnt): #3이라면 0~2\n",
    "\n",
    "      pg.sleep(3)\n",
    "      # 메일 쓰기화면 열기      \n",
    "      driver.switch_to.window(driver.window_handles[-1]) #최근창으로 전환\n",
    "      driver.find_element(By.XPATH,\"//*[@id='Lnb']/div[1]/a\").click()\n",
    "\n",
    "      pg.sleep(3)\n",
    "      sub = '님께서 「GLD 예비과정_커리어설계」 에서 작성한 진로설계서입니다.'\n",
    "\n",
    "      name = ws1.Cells(c+2,1).Value #성명\n",
    "      mail_add = ws1.Cells(c+2,3).Value #이메일       \n",
    "\n",
    "      ws3.Cells(3,1).Value = name + sub #성명 + 인사말\n",
    "\n",
    "      #설계서 내용 옮기기 : 양식 만들기\n",
    "      for cell in range(0,4):\n",
    "            ws3.Cells(cell+6,2).Value = ws2.Cells(c+2,cell+12).value\n",
    "\n",
    "      driver.switch_to.window(driver.window_handles[-1]) #최근창으로 전환\n",
    "      driver.find_element(By.XPATH,'//*[@id=\"token-input-send_to\"]').send_keys(mail_add) # 받는 사람\n",
    "\n",
    "      #메일 주소는 엔터를 해줘야 함\n",
    "      pg.sleep(1)\n",
    "      win = pg.getWindowsWithTitle(\"메일쓰기\")[0]\n",
    "      win.activate()\n",
    "\n",
    "      pg.press('enter') #이메일 주소 완성\n",
    "      pg.sleep(1)\n",
    "\n",
    "      pg.sleep(3)\n",
    "\n",
    "      #메일 정보, 본문 입력\n",
    "\n",
    "      mail_sub = name + sub #성명 + 인사말\n",
    "\n",
    "      pg.sleep(1)\n",
    "\n",
    "      driver.find_element(By.XPATH,'//*[@id=\"write_send_info\"]/table[2]/tbody/tr[1]/td/input').send_keys(mail_sub) # 제목\n",
    "\n",
    "      ws3.Range('A1:B9').Copy()\n",
    "\n",
    "      win = pg.getWindowsWithTitle('메일쓰기')[0]\n",
    "      win.activate()\n",
    "\n",
    "      pg.press('tab')\n",
    "      pg.sleep(1)\n",
    "      pg.hotkey('ctrl','v')\n",
    "\n",
    "      pg.sleep(1)\n",
    "      pg.press('tab',presses=11)\n",
    "      pg.press('enter')\n",
    "\n",
    "      #메일 보내기\n",
    "      pg.sleep(2)\n",
    "      driver.find_element(By.XPATH,'//*[@id=\"memo_content\"]/div[1]/ul[1]/li[1]/a').click()\n",
    "\n",
    "      #메일 발송 확인창 확인 버튼 클릭- alert창으로 처리\n",
    "      pg.sleep(5)\n",
    "      try:  # 메일 발송 확인창이 열릴 경우 alert accept 처리\n",
    "            alert=driver.switch_to.alert\n",
    "            alert.accept()\n",
    "      except:\n",
    "            print(\"메일 발송 확인창 없음. 계속 진행.\")\n",
    "\n",
    "      pg.sleep(3) #배치파일로 실행할 때는 모든 창이 닫기므로 메일을 보내는 시간이 필요함\n",
    "\n",
    "      driver.switch_to.window(driver.window_handles[-1]) #최근창으로 전환\n",
    "      # driver.close()"
   ]
  }
 ],
 "metadata": {
  "kernelspec": {
   "display_name": "Python 3.8.10 64-bit",
   "language": "python",
   "name": "python3"
  },
  "language_info": {
   "codemirror_mode": {
    "name": "ipython",
    "version": 3
   },
   "file_extension": ".py",
   "mimetype": "text/x-python",
   "name": "python",
   "nbconvert_exporter": "python",
   "pygments_lexer": "ipython3",
   "version": "3.8.10"
  },
  "orig_nbformat": 4,
  "vscode": {
   "interpreter": {
    "hash": "e2782e0ab7cab974e8fb2dfc8cec048a29dc3b50e54743df0c4a34ac41b2be7e"
   }
  }
 },
 "nbformat": 4,
 "nbformat_minor": 2
}
