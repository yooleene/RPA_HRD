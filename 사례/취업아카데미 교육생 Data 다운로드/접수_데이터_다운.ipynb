{
 "cells": [
  {
   "cell_type": "markdown",
   "metadata": {},
   "source": [
    "# 웹드라이버/라이브러리 불러오기"
   ]
  },
  {
   "cell_type": "markdown",
   "metadata": {},
   "source": [
    "- D:\\downloads 폴더의 모든 파일을 삭제하고 시작해야 함"
   ]
  },
  {
   "cell_type": "code",
   "execution_count": 39,
   "metadata": {},
   "outputs": [],
   "source": [
    "import pyautogui as pg\n",
    "from selenium import webdriver\n",
    "from selenium.webdriver.common.by import By\n",
    "from selenium.webdriver.common.keys import Keys\n",
    "from bs4 import BeautifulSoup as bs4\n"
   ]
  },
  {
   "cell_type": "code",
   "execution_count": 40,
   "metadata": {},
   "outputs": [],
   "source": [
    "my_id = 'edu'\n",
    "my_pw = pg.password(title='PASS', text='패스워드를 입력하세요', default='')"
   ]
  },
  {
   "cell_type": "markdown",
   "metadata": {},
   "source": [
    "# 관리자 페이지 접속"
   ]
  },
  {
   "cell_type": "code",
   "execution_count": 41,
   "metadata": {},
   "outputs": [
    {
     "name": "stderr",
     "output_type": "stream",
     "text": [
      "C:\\Users\\poscouser\\AppData\\Local\\Temp\\ipykernel_47136\\309059692.py:2: DeprecationWarning: executable_path has been deprecated, please pass in a Service object\n",
      "  driver = webdriver.Chrome('d:/작업방/chromedriver')\n"
     ]
    }
   ],
   "source": [
    "url = 'http://youth.posco.com/posco/_owner'\n",
    "driver = webdriver.Chrome('d:/작업방/chromedriver')\n",
    "driver.get(url)\n",
    "driver.implicitly_wait(10) #드라이버가 로딩되는데 10초까지 대기, 빨리 로딩되면 다음 코드 진행\n",
    "driver.maximize_window()"
   ]
  },
  {
   "cell_type": "markdown",
   "metadata": {},
   "source": [
    "- 로그인"
   ]
  },
  {
   "cell_type": "code",
   "execution_count": 42,
   "metadata": {},
   "outputs": [],
   "source": [
    "driver.find_element(By.XPATH, '//*[@id=\"wd_id\"]').send_keys(my_id)\n",
    "driver.find_element(By.XPATH, '//*[@id=\"wd_pw\"]').send_keys(my_pw)\n",
    "driver.find_element(By.XPATH, '//*[@id=\"wd_pw\"]').send_keys(Keys.ENTER)"
   ]
  },
  {
   "cell_type": "code",
   "execution_count": 43,
   "metadata": {},
   "outputs": [],
   "source": [
    "#취업 아카데미 클릭\n",
    "driver.find_element(By.XPATH, '//*[@id=\"contain\"]/div/div/div[1]/div/div[1]/div[1]/div/div[2]/a/strong').click() "
   ]
  },
  {
   "cell_type": "code",
   "execution_count": 44,
   "metadata": {},
   "outputs": [],
   "source": [
    "#총 접수 클릭 \n",
    "num = 8 #상위 몇 번째 인지 선택\n",
    "receipt_xpath = '//*[@id=\"contain\"]/div/div/div[2]/div/div/div[3]/div[2]/table/tbody/tr[' + str(num) + ']/td[3]/a/strong'\n",
    "driver.find_element(By.XPATH, receipt_xpath).click() "
   ]
  },
  {
   "cell_type": "markdown",
   "metadata": {},
   "source": [
    "- 다운받기"
   ]
  },
  {
   "cell_type": "code",
   "execution_count": 45,
   "metadata": {},
   "outputs": [
    {
     "name": "stdout",
     "output_type": "stream",
     "text": [
      "다운로드가 완료되었습니다.\n"
     ]
    }
   ],
   "source": [
    "driver.switch_to.window(driver.window_handles[-1]) #최근창으로 전환\n",
    "\n",
    "zip = driver.find_elements(By.LINK_TEXT,'[ZIP]') #zip 파일 찾기\n",
    "\n",
    "for i, z in enumerate(zip):\n",
    "      try:\n",
    "            z.click()\n",
    "            print(str(i+1) + '번째 다운로드 완료',end='\\r')\n",
    "      except: print(str(i+1) + '번째 다운 오류 발생 > 확인 바람 > 계속 다운 진행')\n",
    "      pg.sleep(2)\n",
    "\n",
    "print('다운로드가 완료되었습니다.')"
   ]
  },
  {
   "cell_type": "markdown",
   "metadata": {},
   "source": [
    "- 압출 풀기"
   ]
  },
  {
   "cell_type": "code",
   "execution_count": 61,
   "metadata": {},
   "outputs": [],
   "source": [
    "pg.hotkey('win','e') #파일 탐색기\n",
    "pg.sleep(2)\n",
    "win = pg.getWindowsWithTitle(\"내 PC\")\n",
    "if win[0].isActive == False:\n",
    "    win[0].activate()\n",
    "pg.hotkey('win','up') #창 최대화\n",
    "\n",
    "pg.press('f4') #주소 표시줄 목록 표시\n",
    "pg.sleep(0.5)\n",
    "pg.hotkey('ctrl','a')\n",
    "pg.sleep(0.5)\n",
    "pg.write('D:/downloads')\n",
    "pg.sleep(0.5)\n",
    "pg.press('enter')\n",
    "\n",
    "pg.sleep(1)\n",
    "# pg.press('f6', presses=2, interval=0.2) #파일 목록 파트로 이동\n",
    "pg.click(x=534, y=217) #창 포커싱 변경이 잘 안되서 클릭으로 대체\n",
    "pg.sleep(0.5)\n",
    "pg.hotkey('ctrl','a')\n",
    "pg.sleep(1)\n",
    "pg.rightClick(x=534, y=217)\n",
    "pg.sleep(0.5)\n",
    "pg.press('x') #현재 폴더에 압출 풀기"
   ]
  },
  {
   "cell_type": "markdown",
   "metadata": {},
   "source": [
    "- 파일 분류하기"
   ]
  },
  {
   "cell_type": "code",
   "execution_count": 47,
   "metadata": {},
   "outputs": [],
   "source": [
    "import clipboard as cp\n",
    "\n",
    "pg.hotkey('win','e') #파일 탐색기\n",
    "pg.sleep(2)\n",
    "win = pg.getWindowsWithTitle(\"내 PC\")\n",
    "if win[0].isActive == False:\n",
    "    win[0].activate()\n",
    "\n",
    "div = ['신분증사본', '자기소개서', '증명사진', '통장사본'] #파일 구분\n",
    "fol = ['id_card', 'self_intro', 'picture', 'bank'] #저장 할 폴더구분 : 수작업으로 미리 생성해야 함\n",
    "\n",
    "for i in range(len(div)):\n",
    "\n",
    "      #복사하기\n",
    "      pg.press('f4') #주소 표시줄 목록 표시\n",
    "      pg.sleep(0.5)\n",
    "      pg.hotkey('ctrl','a')\n",
    "      pg.sleep(0.5)\n",
    "      pg.write('D:/downloads')\n",
    "      pg.sleep(0.5)\n",
    "      pg.press('enter')\n",
    "\n",
    "      pg.sleep(2)\n",
    "      pg.press('f3') #파일 검색\n",
    "      pg.sleep(0.5)\n",
    "      cp.copy(div[i]) #한글이라서 클립보드 사용\n",
    "      pg.sleep(0.5)\n",
    "      pg.hotkey('ctrl','v')\n",
    "      pg.sleep(2)\n",
    "\n",
    "      pg.press('f6', presses=2, interval=0.2) #파일 목록 파트로 이동\n",
    "      pg.sleep(0.5)\n",
    "      pg.hotkey('ctrl','a')\n",
    "      pg.sleep(0.5)\n",
    "      pg.hotkey('ctrl','c')\n",
    "\n",
    "      #붙혀넣기\n",
    "      pg.press('f4') #주소 표시줄 목록 표시\n",
    "      pg.sleep(0.5)\n",
    "      pg.hotkey('ctrl','a')\n",
    "      pg.sleep(0.5)\n",
    "      pg.write('D:/' + fol[i])\n",
    "      pg.sleep(0.5)\n",
    "      pg.press('enter')\n",
    "      pg.sleep(1)\n",
    "      pg.press('f6', presses=1, interval=0.2) #파일 목록 파트로 이동\n",
    "      pg.sleep(0.5)\n",
    "      pg.hotkey('ctrl','v')\n",
    "      pg.sleep(10) #복사 되는 시간"
   ]
  }
 ],
 "metadata": {
  "kernelspec": {
   "display_name": "Python 3.8.10 64-bit",
   "language": "python",
   "name": "python3"
  },
  "language_info": {
   "codemirror_mode": {
    "name": "ipython",
    "version": 3
   },
   "file_extension": ".py",
   "mimetype": "text/x-python",
   "name": "python",
   "nbconvert_exporter": "python",
   "pygments_lexer": "ipython3",
   "version": "3.8.10"
  },
  "orig_nbformat": 4,
  "vscode": {
   "interpreter": {
    "hash": "e2782e0ab7cab974e8fb2dfc8cec048a29dc3b50e54743df0c4a34ac41b2be7e"
   }
  }
 },
 "nbformat": 4,
 "nbformat_minor": 2
}
