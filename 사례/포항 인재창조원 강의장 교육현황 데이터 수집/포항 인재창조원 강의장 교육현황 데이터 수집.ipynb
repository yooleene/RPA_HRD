{
 "cells": [
  {
   "cell_type": "code",
   "execution_count": null,
   "metadata": {},
   "outputs": [],
   "source": [
    "import pandas as pd\n",
    "from lp_crawler import LP"
   ]
  },
  {
   "cell_type": "code",
   "execution_count": null,
   "metadata": {},
   "outputs": [],
   "source": [
    "lp = LP(\"아이디\", \"비밀번호\")\n",
    "lp.login()"
   ]
  },
  {
   "cell_type": "code",
   "execution_count": null,
   "metadata": {},
   "outputs": [],
   "source": [
    "date =\"2022.12.14\"\n",
    "\n",
    "url = \"{}/S22/S22A10/admin/support/ajax/getLectureroomCalendarList.do\".format(lp.host)\n",
    "form_data = {\n",
    "    \"searchEduArea\": \"0001\",\n",
    "    \"searchEduPlaceCode\": \"P1\",\n",
    "    \"startDt\": date,\n",
    "    \"endDt\": date,\n",
    "    \"searchStartDt\": date,\n",
    "    \"searchEndDt\": date,\n",
    "    \"searchType\": \"REG_USER_NAME\"\n",
    "}\n",
    "res = lp.lp_session.post(url, data=form_data)\n",
    "df_src = pd.DataFrame(res.json()[\"lectureroomCalendarList\"])\n",
    "\n",
    "kv_dict = {\n",
    "    \"deptName\" : \"예약자 부서\",\n",
    "    \"eduPlaceName\" : \"건물명\",\n",
    "    \"lectureroomNm\" : \"강의실명\",\n",
    "    \"ho\" : \"호실\",\n",
    "    \"userName\" : \"예약자\",\n",
    "    \"eduName\" : \"교육명\",\n",
    "    \"startTime\" : \"시작시간\",\n",
    "    \"endTime\" : \"종료시간\",\n",
    "    \"eduDts\" : \"일자\"\n",
    "}\n",
    "df_src = df_src[kv_dict.keys()]\n",
    "df_src.rename(columns=kv_dict, inplace=True)\n",
    "\n",
    "new_result = []\n",
    "for item in df_src.iterrows():\n",
    "    for idx, _ in enumerate(item[1][\"예약자\"].split(\"|\")):\n",
    "        new_result.append({\n",
    "            \"예약자 부서\" : item[1][\"예약자 부서\"].split(\"|\")[idx],\n",
    "            \"건물명\" : item[1][\"건물명\"],\n",
    "            \"강의실명\" : item[1][\"강의실명\"],\n",
    "            \"호실\" : item[1][\"호실\"],\n",
    "            \"예약자\" : item[1][\"예약자\"].split(\"|\")[idx],\n",
    "            \"교육명\" : item[1][\"교육명\"].split(\",\")[idx],\n",
    "            \"시작시간\" : item[1][\"시작시간\"].split(\",\")[idx],\n",
    "            \"종료시간\" : item[1][\"종료시간\"].split(\",\")[idx],\n",
    "            \"일자\" : date.replace(\".\", \"\")\n",
    "        })\n",
    "df = pd.DataFrame(new_result)\n",
    "df = df[(df[\"예약자\"] != \"\")]\n",
    "df.reset_index(drop=True, inplace=True)\n",
    "df"
   ]
  }
 ],
 "metadata": {
  "kernelspec": {
   "display_name": "Python 3.9.10 ('venv_common': venv)",
   "language": "python",
   "name": "python3"
  },
  "language_info": {
   "codemirror_mode": {
    "name": "ipython",
    "version": 3
   },
   "file_extension": ".py",
   "mimetype": "text/x-python",
   "name": "python",
   "nbconvert_exporter": "python",
   "pygments_lexer": "ipython3",
   "version": "3.9.10"
  },
  "orig_nbformat": 4,
  "vscode": {
   "interpreter": {
    "hash": "00788648533811c0d4af57f0819dead35b430506c7c842538b9d24915bb6fd49"
   }
  }
 },
 "nbformat": 4,
 "nbformat_minor": 2
}
