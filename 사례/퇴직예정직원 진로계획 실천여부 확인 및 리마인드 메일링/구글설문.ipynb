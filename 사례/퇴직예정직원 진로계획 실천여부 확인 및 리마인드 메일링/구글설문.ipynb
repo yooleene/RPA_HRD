{
 "cells": [
  {
   "cell_type": "code",
   "execution_count": 8,
   "metadata": {},
   "outputs": [],
   "source": [
    "import pyautogui as pg\n",
    "from selenium.webdriver.common.by import By\n",
    "from selenium.webdriver.support.ui import WebDriverWait\n",
    "from selenium.webdriver.support import expected_conditions as EC\n",
    "import undetected_chromedriver as uc\n"
   ]
  },
  {
   "cell_type": "code",
   "execution_count": 2,
   "metadata": {},
   "outputs": [],
   "source": [
    "my_id = 'user_id@naver.com'\n",
    "my_pw = pg.password(title='EP_PASS', text='패스워드를 입력하세요', default='')"
   ]
  },
  {
   "cell_type": "code",
   "execution_count": 9,
   "metadata": {},
   "outputs": [],
   "source": [
    "def init_driver():\n",
    "    driver = uc.Chrome()\n",
    "    driver.get('https://docs.google.com/forms/')\n",
    "    return driver\n",
    "\n",
    "def do_login(driver):\n",
    "    driver.find_element(By.XPATH,'//*[@id=\"identifierId\"]').send_keys(my_id)\n",
    "    driver.find_element(By.XPATH,'//*[@id=\"identifierId\"]').send_keys(Keys.ENTER)\n",
    "    pg.sleep(6)\n",
    "    driver.find_element(By.XPATH,'//*[@id=\"password\"]/div[1]/div/div[1]/input').send_keys(my_pw)\n",
    "    driver.find_element(By.XPATH,'//*[@id=\"password\"]/div[1]/div/div[1]/input').send_keys(Keys.ENTER)\n",
    "\n",
    "# main에서 실행하지 않으면 오류가 남\n",
    "if  __name__  ==  \"__main__\" :\n",
    "    driver = init_driver()\n",
    "    do_login(driver)\n",
    "\n",
    "    "
   ]
  }
 ],
 "metadata": {
  "kernelspec": {
   "display_name": "Python 3.8.10 64-bit",
   "language": "python",
   "name": "python3"
  },
  "language_info": {
   "codemirror_mode": {
    "name": "ipython",
    "version": 3
   },
   "file_extension": ".py",
   "mimetype": "text/x-python",
   "name": "python",
   "nbconvert_exporter": "python",
   "pygments_lexer": "ipython3",
   "version": "3.8.10"
  },
  "orig_nbformat": 4,
  "vscode": {
   "interpreter": {
    "hash": "e2782e0ab7cab974e8fb2dfc8cec048a29dc3b50e54743df0c4a34ac41b2be7e"
   }
  }
 },
 "nbformat": 4,
 "nbformat_minor": 2
}
