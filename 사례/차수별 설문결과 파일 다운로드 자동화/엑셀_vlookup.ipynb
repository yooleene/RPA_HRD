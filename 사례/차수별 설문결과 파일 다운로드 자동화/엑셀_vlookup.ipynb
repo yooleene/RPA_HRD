{
 "cells": [
  {
   "cell_type": "code",
   "execution_count": 2,
   "metadata": {},
   "outputs": [],
   "source": [
    "#엑셀 등에서 판다스로 데이터를 가져온 상태에서 진행\n",
    "#예) df1(직원명단), df2(수료자 명단) - 직원 명단에 수료여부를 기입하는 작업\n",
    "\n",
    "#df1의 직번을 기준으로 df2에서 동일한 직번을 찾아 같은 행의 수료여부 데이터를 df1의 마지막 컬럼에 추가\n",
    "df_join = df1.join(df2.set_index('직번')['수료여부'], on='직번')\n",
    "df_join"
   ]
  },
  {
   "cell_type": "code",
   "execution_count": null,
   "metadata": {},
   "outputs": [],
   "source": [
    "#위에서 만들어진 df_join에서 수료여부가 수료가 아닌 행(미수료)만 추출\n",
    "df_join = df_join.query(\"수료여부 != '수료'\")\n",
    "df_join.to_excel('data_join.xlsx')"
   ]
  },
  {
   "cell_type": "code",
   "execution_count": null,
   "metadata": {},
   "outputs": [],
   "source": [
    "import pandas as pd\n",
    "df2 = pd.read_clipboard()"
   ]
  },
  {
   "cell_type": "code",
   "execution_count": 27,
   "metadata": {},
   "outputs": [
    {
     "data": {
      "text/html": [
       "<div>\n",
       "<style scoped>\n",
       "    .dataframe tbody tr th:only-of-type {\n",
       "        vertical-align: middle;\n",
       "    }\n",
       "\n",
       "    .dataframe tbody tr th {\n",
       "        vertical-align: top;\n",
       "    }\n",
       "\n",
       "    .dataframe thead th {\n",
       "        text-align: right;\n",
       "    }\n",
       "</style>\n",
       "<table border=\"1\" class=\"dataframe\">\n",
       "  <thead>\n",
       "    <tr style=\"text-align: right;\">\n",
       "      <th></th>\n",
       "      <th>부서</th>\n",
       "      <th>직번</th>\n",
       "      <th>이름</th>\n",
       "      <th>생년월일</th>\n",
       "      <th>직책</th>\n",
       "      <th>직무</th>\n",
       "      <th>입사일</th>\n",
       "      <th>핸드폰번호</th>\n",
       "      <th>근무지</th>\n",
       "      <th>담당업무</th>\n",
       "      <th>수료과정</th>\n",
       "    </tr>\n",
       "  </thead>\n",
       "  <tbody>\n",
       "    <tr>\n",
       "      <th>2</th>\n",
       "      <td>(포항)제강설비부 크레인정비섹션</td>\n",
       "      <td>578701</td>\n",
       "      <td>김재동</td>\n",
       "      <td>19810804</td>\n",
       "      <td>일반</td>\n",
       "      <td>전기정비직</td>\n",
       "      <td>2005.06.20</td>\n",
       "      <td>1095458184</td>\n",
       "      <td>포항</td>\n",
       "      <td>[STS제강크레인전기파트] STS제강 크레인 (안전짝궁 박준섭대리)</td>\n",
       "      <td>NaN</td>\n",
       "    </tr>\n",
       "    <tr>\n",
       "      <th>6</th>\n",
       "      <td>(포항)압연설비부 후판정비섹션</td>\n",
       "      <td>575893</td>\n",
       "      <td>이성호</td>\n",
       "      <td>19811202</td>\n",
       "      <td>일반</td>\n",
       "      <td>기계정비직</td>\n",
       "      <td>2004.06.07</td>\n",
       "      <td>1064620717</td>\n",
       "      <td>포항</td>\n",
       "      <td>[2후판전단기계] 2후판 Hot Shear (2후판 전단기계 정비실)</td>\n",
       "      <td>NaN</td>\n",
       "    </tr>\n",
       "    <tr>\n",
       "      <th>24</th>\n",
       "      <td>(포항)압연설비부 열연정비섹션</td>\n",
       "      <td>611568</td>\n",
       "      <td>김형두</td>\n",
       "      <td>19860106</td>\n",
       "      <td>일반</td>\n",
       "      <td>기계정비직</td>\n",
       "      <td>2011.07.04</td>\n",
       "      <td>1048047909</td>\n",
       "      <td>포항</td>\n",
       "      <td>[2열연 DC기계]DC 본체 &amp; S-CAR, C-CAR// 포스코 노동조합 대의원,...</td>\n",
       "      <td>NaN</td>\n",
       "    </tr>\n",
       "    <tr>\n",
       "      <th>53</th>\n",
       "      <td>(포항)압연설비부 후판정비섹션</td>\n",
       "      <td>632423</td>\n",
       "      <td>김원석</td>\n",
       "      <td>19970404</td>\n",
       "      <td>일반</td>\n",
       "      <td>기계정비직</td>\n",
       "      <td>2019.10.21</td>\n",
       "      <td>1040974212</td>\n",
       "      <td>포항</td>\n",
       "      <td>[2후판 전단 기계] 2후판 Crop Shear, Dividing Shear, 표시...</td>\n",
       "      <td>NaN</td>\n",
       "    </tr>\n",
       "    <tr>\n",
       "      <th>67</th>\n",
       "      <td>(포항)압연설비부 열연정비섹션</td>\n",
       "      <td>567372</td>\n",
       "      <td>김현철</td>\n",
       "      <td>19711023</td>\n",
       "      <td>일반</td>\n",
       "      <td>기계정비직</td>\n",
       "      <td>2002.08.12</td>\n",
       "      <td>1038206877</td>\n",
       "      <td>포항</td>\n",
       "      <td>[2열연 FM기계] 연연속 Coil Box~ Leveler 설비</td>\n",
       "      <td>NaN</td>\n",
       "    </tr>\n",
       "    <tr>\n",
       "      <th>...</th>\n",
       "      <td>...</td>\n",
       "      <td>...</td>\n",
       "      <td>...</td>\n",
       "      <td>...</td>\n",
       "      <td>...</td>\n",
       "      <td>...</td>\n",
       "      <td>...</td>\n",
       "      <td>...</td>\n",
       "      <td>...</td>\n",
       "      <td>...</td>\n",
       "      <td>...</td>\n",
       "    </tr>\n",
       "    <tr>\n",
       "      <th>12462</th>\n",
       "      <td>(포항)제선설비부 화성정비섹션</td>\n",
       "      <td>430233</td>\n",
       "      <td>최창헌</td>\n",
       "      <td>19640308</td>\n",
       "      <td>일반</td>\n",
       "      <td>전기정비직</td>\n",
       "      <td>1988.02.08</td>\n",
       "      <td>1035347971</td>\n",
       "      <td>포항</td>\n",
       "      <td>1 coke전기정비 오븐,화성 담당</td>\n",
       "      <td>NaN</td>\n",
       "    </tr>\n",
       "    <tr>\n",
       "      <th>12491</th>\n",
       "      <td>(포항)압연설비부 냉연정비2섹션</td>\n",
       "      <td>631257</td>\n",
       "      <td>박진석</td>\n",
       "      <td>19970404</td>\n",
       "      <td>일반</td>\n",
       "      <td>기계정비직</td>\n",
       "      <td>2018.06.18</td>\n",
       "      <td>1030507817</td>\n",
       "      <td>포항</td>\n",
       "      <td>[2PCM기계파트]Looper설비</td>\n",
       "      <td>NaN</td>\n",
       "    </tr>\n",
       "    <tr>\n",
       "      <th>12504</th>\n",
       "      <td>(포항)제선설비부 에너지정비섹션</td>\n",
       "      <td>617865</td>\n",
       "      <td>김찬우</td>\n",
       "      <td>19910227</td>\n",
       "      <td>일반</td>\n",
       "      <td>전기정비직</td>\n",
       "      <td>2012.03.19</td>\n",
       "      <td>1020468675</td>\n",
       "      <td>포항</td>\n",
       "      <td>[산소전기정비파트]2산소공장 전기정비/나의안전짝꿍(황희영)</td>\n",
       "      <td>NaN</td>\n",
       "    </tr>\n",
       "    <tr>\n",
       "      <th>12506</th>\n",
       "      <td>(포항)제선설비부 발전정비섹션</td>\n",
       "      <td>619920</td>\n",
       "      <td>오상욱</td>\n",
       "      <td>19900113</td>\n",
       "      <td>일반</td>\n",
       "      <td>전기정비직</td>\n",
       "      <td>2012.07.16</td>\n",
       "      <td>1028777157</td>\n",
       "      <td>포항</td>\n",
       "      <td>복합발전파트 전기정비(제어정비)</td>\n",
       "      <td>NaN</td>\n",
       "    </tr>\n",
       "    <tr>\n",
       "      <th>12508</th>\n",
       "      <td>(포항)제선설비부 에너지정비섹션</td>\n",
       "      <td>574970</td>\n",
       "      <td>박성욱</td>\n",
       "      <td>19790906</td>\n",
       "      <td>일반</td>\n",
       "      <td>기계정비직</td>\n",
       "      <td>2004.06.07</td>\n",
       "      <td>1041979436</td>\n",
       "      <td>포항</td>\n",
       "      <td>[산소기계정비파트]#13,14 Plant 담당/나의안전짝꿍(양해용)</td>\n",
       "      <td>NaN</td>\n",
       "    </tr>\n",
       "  </tbody>\n",
       "</table>\n",
       "<p>1121 rows × 11 columns</p>\n",
       "</div>"
      ],
      "text/plain": [
       "                      부서      직번   이름      생년월일  직책     직무         입사일  \\\n",
       "2      (포항)제강설비부 크레인정비섹션  578701  김재동  19810804  일반  전기정비직  2005.06.20   \n",
       "6       (포항)압연설비부 후판정비섹션  575893  이성호  19811202  일반  기계정비직  2004.06.07   \n",
       "24      (포항)압연설비부 열연정비섹션  611568  김형두  19860106  일반  기계정비직  2011.07.04   \n",
       "53      (포항)압연설비부 후판정비섹션  632423  김원석  19970404  일반  기계정비직  2019.10.21   \n",
       "67      (포항)압연설비부 열연정비섹션  567372  김현철  19711023  일반  기계정비직  2002.08.12   \n",
       "...                  ...     ...  ...       ...  ..    ...         ...   \n",
       "12462   (포항)제선설비부 화성정비섹션  430233  최창헌  19640308  일반  전기정비직  1988.02.08   \n",
       "12491  (포항)압연설비부 냉연정비2섹션  631257  박진석  19970404  일반  기계정비직  2018.06.18   \n",
       "12504  (포항)제선설비부 에너지정비섹션  617865  김찬우  19910227  일반  전기정비직  2012.03.19   \n",
       "12506   (포항)제선설비부 발전정비섹션  619920  오상욱  19900113  일반  전기정비직  2012.07.16   \n",
       "12508  (포항)제선설비부 에너지정비섹션  574970  박성욱  19790906  일반  기계정비직  2004.06.07   \n",
       "\n",
       "            핸드폰번호 근무지                                               담당업무  수료과정  \n",
       "2      1095458184  포항              [STS제강크레인전기파트] STS제강 크레인 (안전짝궁 박준섭대리)   NaN  \n",
       "6      1064620717  포항             [2후판전단기계] 2후판 Hot Shear (2후판 전단기계 정비실)   NaN  \n",
       "24     1048047909  포항  [2열연 DC기계]DC 본체 & S-CAR, C-CAR// 포스코 노동조합 대의원,...   NaN  \n",
       "53     1040974212  포항  [2후판 전단 기계] 2후판 Crop Shear, Dividing Shear, 표시...   NaN  \n",
       "67     1038206877  포항                [2열연 FM기계] 연연속 Coil Box~ Leveler 설비   NaN  \n",
       "...           ...  ..                                                ...   ...  \n",
       "12462  1035347971  포항                                1 coke전기정비 오븐,화성 담당   NaN  \n",
       "12491  1030507817  포항                                 [2PCM기계파트]Looper설비   NaN  \n",
       "12504  1020468675  포항                   [산소전기정비파트]2산소공장 전기정비/나의안전짝꿍(황희영)   NaN  \n",
       "12506  1028777157  포항                                  복합발전파트 전기정비(제어정비)   NaN  \n",
       "12508  1041979436  포항              [산소기계정비파트]#13,14 Plant 담당/나의안전짝꿍(양해용)   NaN  \n",
       "\n",
       "[1121 rows x 11 columns]"
      ]
     },
     "execution_count": 27,
     "metadata": {},
     "output_type": "execute_result"
    }
   ],
   "source": [
    "df1"
   ]
  },
  {
   "cell_type": "code",
   "execution_count": 5,
   "metadata": {},
   "outputs": [
    {
     "data": {
      "text/html": [
       "<div>\n",
       "<style scoped>\n",
       "    .dataframe tbody tr th:only-of-type {\n",
       "        vertical-align: middle;\n",
       "    }\n",
       "\n",
       "    .dataframe tbody tr th {\n",
       "        vertical-align: top;\n",
       "    }\n",
       "\n",
       "    .dataframe thead th {\n",
       "        text-align: right;\n",
       "    }\n",
       "</style>\n",
       "<table border=\"1\" class=\"dataframe\">\n",
       "  <thead>\n",
       "    <tr style=\"text-align: right;\">\n",
       "      <th></th>\n",
       "      <th>성명</th>\n",
       "      <th>수료여부</th>\n",
       "    </tr>\n",
       "  </thead>\n",
       "  <tbody>\n",
       "    <tr>\n",
       "      <th>0</th>\n",
       "      <td>홍길동1</td>\n",
       "      <td>수료</td>\n",
       "    </tr>\n",
       "    <tr>\n",
       "      <th>1</th>\n",
       "      <td>홍길동2</td>\n",
       "      <td>미수료</td>\n",
       "    </tr>\n",
       "    <tr>\n",
       "      <th>2</th>\n",
       "      <td>홍길동3</td>\n",
       "      <td>수료</td>\n",
       "    </tr>\n",
       "    <tr>\n",
       "      <th>3</th>\n",
       "      <td>홍길동4</td>\n",
       "      <td>미수료</td>\n",
       "    </tr>\n",
       "    <tr>\n",
       "      <th>4</th>\n",
       "      <td>홍길동5</td>\n",
       "      <td>수료</td>\n",
       "    </tr>\n",
       "    <tr>\n",
       "      <th>5</th>\n",
       "      <td>홍길동6</td>\n",
       "      <td>미수료</td>\n",
       "    </tr>\n",
       "    <tr>\n",
       "      <th>6</th>\n",
       "      <td>홍길동7</td>\n",
       "      <td>수료</td>\n",
       "    </tr>\n",
       "    <tr>\n",
       "      <th>7</th>\n",
       "      <td>홍길동8</td>\n",
       "      <td>미수료</td>\n",
       "    </tr>\n",
       "    <tr>\n",
       "      <th>8</th>\n",
       "      <td>홍길동9</td>\n",
       "      <td>수료</td>\n",
       "    </tr>\n",
       "    <tr>\n",
       "      <th>9</th>\n",
       "      <td>홍길동10</td>\n",
       "      <td>미수료</td>\n",
       "    </tr>\n",
       "  </tbody>\n",
       "</table>\n",
       "</div>"
      ],
      "text/plain": [
       "      성명 수료여부\n",
       "0   홍길동1   수료\n",
       "1   홍길동2  미수료\n",
       "2   홍길동3   수료\n",
       "3   홍길동4  미수료\n",
       "4   홍길동5   수료\n",
       "5   홍길동6  미수료\n",
       "6   홍길동7   수료\n",
       "7   홍길동8  미수료\n",
       "8   홍길동9   수료\n",
       "9  홍길동10  미수료"
      ]
     },
     "execution_count": 5,
     "metadata": {},
     "output_type": "execute_result"
    }
   ],
   "source": [
    "df2"
   ]
  },
  {
   "cell_type": "code",
   "execution_count": 10,
   "metadata": {},
   "outputs": [
    {
     "data": {
      "text/html": [
       "<div>\n",
       "<style scoped>\n",
       "    .dataframe tbody tr th:only-of-type {\n",
       "        vertical-align: middle;\n",
       "    }\n",
       "\n",
       "    .dataframe tbody tr th {\n",
       "        vertical-align: top;\n",
       "    }\n",
       "\n",
       "    .dataframe thead th {\n",
       "        text-align: right;\n",
       "    }\n",
       "</style>\n",
       "<table border=\"1\" class=\"dataframe\">\n",
       "  <thead>\n",
       "    <tr style=\"text-align: right;\">\n",
       "      <th></th>\n",
       "      <th>성명</th>\n",
       "      <th>직번</th>\n",
       "      <th>수료여부</th>\n",
       "    </tr>\n",
       "  </thead>\n",
       "  <tbody>\n",
       "    <tr>\n",
       "      <th>0</th>\n",
       "      <td>홍길동1</td>\n",
       "      <td>1001</td>\n",
       "      <td>수료</td>\n",
       "    </tr>\n",
       "    <tr>\n",
       "      <th>1</th>\n",
       "      <td>홍길동2</td>\n",
       "      <td>1002</td>\n",
       "      <td>미수료</td>\n",
       "    </tr>\n",
       "    <tr>\n",
       "      <th>2</th>\n",
       "      <td>홍길동3</td>\n",
       "      <td>1003</td>\n",
       "      <td>수료</td>\n",
       "    </tr>\n",
       "    <tr>\n",
       "      <th>3</th>\n",
       "      <td>홍길동4</td>\n",
       "      <td>1004</td>\n",
       "      <td>미수료</td>\n",
       "    </tr>\n",
       "    <tr>\n",
       "      <th>4</th>\n",
       "      <td>홍길동5</td>\n",
       "      <td>1005</td>\n",
       "      <td>수료</td>\n",
       "    </tr>\n",
       "    <tr>\n",
       "      <th>5</th>\n",
       "      <td>홍길동6</td>\n",
       "      <td>1006</td>\n",
       "      <td>미수료</td>\n",
       "    </tr>\n",
       "    <tr>\n",
       "      <th>6</th>\n",
       "      <td>홍길동7</td>\n",
       "      <td>1007</td>\n",
       "      <td>수료</td>\n",
       "    </tr>\n",
       "    <tr>\n",
       "      <th>7</th>\n",
       "      <td>홍길동8</td>\n",
       "      <td>1008</td>\n",
       "      <td>미수료</td>\n",
       "    </tr>\n",
       "    <tr>\n",
       "      <th>8</th>\n",
       "      <td>홍길동9</td>\n",
       "      <td>1009</td>\n",
       "      <td>수료</td>\n",
       "    </tr>\n",
       "    <tr>\n",
       "      <th>9</th>\n",
       "      <td>홍길동10</td>\n",
       "      <td>1010</td>\n",
       "      <td>미수료</td>\n",
       "    </tr>\n",
       "    <tr>\n",
       "      <th>10</th>\n",
       "      <td>홍길동11</td>\n",
       "      <td>1011</td>\n",
       "      <td>NaN</td>\n",
       "    </tr>\n",
       "  </tbody>\n",
       "</table>\n",
       "</div>"
      ],
      "text/plain": [
       "       성명    직번 수료여부\n",
       "0    홍길동1  1001   수료\n",
       "1    홍길동2  1002  미수료\n",
       "2    홍길동3  1003   수료\n",
       "3    홍길동4  1004  미수료\n",
       "4    홍길동5  1005   수료\n",
       "5    홍길동6  1006  미수료\n",
       "6    홍길동7  1007   수료\n",
       "7    홍길동8  1008  미수료\n",
       "8    홍길동9  1009   수료\n",
       "9   홍길동10  1010  미수료\n",
       "10  홍길동11  1011  NaN"
      ]
     },
     "execution_count": 10,
     "metadata": {},
     "output_type": "execute_result"
    }
   ],
   "source": [
    "df_join = df1.join(df2.set_index('성명')['수료여부'], on='성명')\n",
    "df_join"
   ]
  },
  {
   "cell_type": "code",
   "execution_count": 23,
   "metadata": {},
   "outputs": [
    {
     "data": {
      "text/plain": [
       "'aa'"
      ]
     },
     "execution_count": 23,
     "metadata": {},
     "output_type": "execute_result"
    }
   ],
   "source": [
    "df4 = df_join[(df_join['수료여부'] != 'NaN')] = 'aa'\n",
    "df4"
   ]
  },
  {
   "cell_type": "code",
   "execution_count": null,
   "metadata": {},
   "outputs": [],
   "source": [
    "df[(df['4분기'] >= 0.5)] = 10     # '4분기'컬럼 中 '0.5'보다 쿠고나 같은 데이터를 10으로 일괄변경\n",
    "df"
   ]
  },
  {
   "cell_type": "code",
   "execution_count": null,
   "metadata": {},
   "outputs": [],
   "source": []
  },
  {
   "cell_type": "code",
   "execution_count": null,
   "metadata": {},
   "outputs": [],
   "source": []
  },
  {
   "cell_type": "code",
   "execution_count": null,
   "metadata": {},
   "outputs": [],
   "source": [
    "cs_name = driver.find_element(By.CSS_SELECTOR,'#grid > tbody > tr:nth-child(2) > td:nth-child(3) > a').text"
   ]
  },
  {
   "cell_type": "code",
   "execution_count": 3,
   "metadata": {},
   "outputs": [
    {
     "name": "stdout",
     "output_type": "stream",
     "text": [
      "최근 다운로드한 파일명:  설문 결과 리스트 (4).xls\n"
     ]
    }
   ],
   "source": [
    "import os\n",
    "import pandas as pd\n",
    "files_Path = \"D:/Downloads/\" # 파일들이 들어있는 폴더\n",
    "file_name_and_time_lst = []\n",
    "# 해당 경로에 있는 파일들의 생성시간을 함께 리스트로 넣어줌. \n",
    "for f_name in os.listdir(f\"{files_Path}\"):\n",
    "      written_time = os.path.getctime(f\"{files_Path}{f_name}\")\n",
    "      file_name_and_time_lst.append((f_name, written_time))\n",
    "# 생성시간 역순으로 정렬하고, \n",
    "sorted_file_lst = sorted(file_name_and_time_lst, key=lambda x: x[1], reverse=True)\n",
    "# 가장 앞에 이는 놈을 넣어준다.\n",
    "recent_file = sorted_file_lst[0]\n",
    "recent_file_name = recent_file[0]\n",
    "print(\"최근 다운로드한 파일명: \", recent_file_name)\n",
    "\n",
    "# 최근 다운로드 한 파일 판다스로 불러오기\n",
    "df = pd.read_excel(r'D:\\Downloads\\{}'.format(recent_file_name))"
   ]
  },
  {
   "cell_type": "code",
   "execution_count": 4,
   "metadata": {},
   "outputs": [],
   "source": [
    "import win32com.client\n",
    "import pyautogui as pg\n",
    "\n",
    "\n",
    "excel = win32com.client.Dispatch('Excel.Application')\n",
    "excel.Visible = True\n",
    "\n",
    "file_name = 'D:\\\\Downloads\\\\' + recent_file_name\n",
    "wb = excel.Workbooks.Open(file_name)"
   ]
  },
  {
   "cell_type": "code",
   "execution_count": 9,
   "metadata": {},
   "outputs": [],
   "source": [
    "ws = wb.Worksheets('First Sheet')"
   ]
  },
  {
   "cell_type": "code",
   "execution_count": 25,
   "metadata": {},
   "outputs": [],
   "source": [
    "wb_total = excel.Workbooks.Open('d:/종합.xlsx')\n",
    "ws_total = wb_total.Worksheets('First Sheet')"
   ]
  },
  {
   "cell_type": "code",
   "execution_count": 10,
   "metadata": {},
   "outputs": [
    {
     "name": "stdout",
     "output_type": "stream",
     "text": [
      "9\n"
     ]
    }
   ],
   "source": [
    "#인원수 카운트\n",
    "i = 1\n",
    "cell_value = ws.Cells(i, 1).Value\n",
    "\n",
    "while cell_value != None :\n",
    "      i+=1\n",
    "      cell_value = ws.Cells(i,1).Value\n",
    "\n",
    "max_row = i-4\n",
    "\n",
    "print(max_row)"
   ]
  },
  {
   "cell_type": "code",
   "execution_count": 11,
   "metadata": {},
   "outputs": [],
   "source": [
    "cs_name = recent_file_name.rstrip('.xls')\n"
   ]
  },
  {
   "cell_type": "code",
   "execution_count": 14,
   "metadata": {},
   "outputs": [
    {
     "data": {
      "text/plain": [
       "True"
      ]
     },
     "execution_count": 14,
     "metadata": {},
     "output_type": "execute_result"
    }
   ],
   "source": [
    "ws.Rows(1).Delete()\n",
    "ws.Rows(2).Delete()"
   ]
  },
  {
   "cell_type": "code",
   "execution_count": 16,
   "metadata": {},
   "outputs": [],
   "source": [
    "#1열에 과정명 입력\n",
    "for j in range(max_row):\n",
    "      ws.Cells(j+2,1).Value = cs_name"
   ]
  },
  {
   "cell_type": "code",
   "execution_count": 26,
   "metadata": {},
   "outputs": [
    {
     "data": {
      "text/plain": [
       "True"
      ]
     },
     "execution_count": 26,
     "metadata": {},
     "output_type": "execute_result"
    }
   ],
   "source": [
    "ws.Range(ws.Cells(2,1), ws.Cells(10,max_row)).Copy()"
   ]
  },
  {
   "cell_type": "code",
   "execution_count": null,
   "metadata": {},
   "outputs": [],
   "source": [
    "종합 엑셀의 행 수를 카운트 하여 아래 적용"
   ]
  },
  {
   "cell_type": "code",
   "execution_count": 27,
   "metadata": {},
   "outputs": [],
   "source": [
    "ws_total.Range(ws_total.Cells(2,1), ws_total.Cells(10,max_row)).Select()\n",
    "ws_total.Paste()"
   ]
  },
  {
   "cell_type": "code",
   "execution_count": null,
   "metadata": {},
   "outputs": [],
   "source": []
  },
  {
   "cell_type": "code",
   "execution_count": null,
   "metadata": {},
   "outputs": [],
   "source": []
  },
  {
   "cell_type": "code",
   "execution_count": null,
   "metadata": {},
   "outputs": [],
   "source": []
  },
  {
   "cell_type": "code",
   "execution_count": 24,
   "metadata": {},
   "outputs": [],
   "source": [
    "wb.Save()"
   ]
  },
  {
   "cell_type": "code",
   "execution_count": 25,
   "metadata": {},
   "outputs": [],
   "source": [
    "wb.Close()"
   ]
  }
 ],
 "metadata": {
  "kernelspec": {
   "display_name": "Python 3.8.10 64-bit",
   "language": "python",
   "name": "python3"
  },
  "language_info": {
   "codemirror_mode": {
    "name": "ipython",
    "version": 3
   },
   "file_extension": ".py",
   "mimetype": "text/x-python",
   "name": "python",
   "nbconvert_exporter": "python",
   "pygments_lexer": "ipython3",
   "version": "3.8.10"
  },
  "orig_nbformat": 4,
  "vscode": {
   "interpreter": {
    "hash": "e2782e0ab7cab974e8fb2dfc8cec048a29dc3b50e54743df0c4a34ac41b2be7e"
   }
  }
 },
 "nbformat": 4,
 "nbformat_minor": 2
}
