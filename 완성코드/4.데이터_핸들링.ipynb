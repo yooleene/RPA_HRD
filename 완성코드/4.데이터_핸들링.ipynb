{
 "cells": [
  {
   "cell_type": "markdown",
   "metadata": {},
   "source": [
    "### 엑셀에서 데이터 다루기"
   ]
  },
  {
   "cell_type": "code",
   "execution_count": null,
   "metadata": {},
   "outputs": [],
   "source": [
    "import win32com.client"
   ]
  },
  {
   "cell_type": "markdown",
   "metadata": {},
   "source": [
    "- 엑셀 프로그램 실행"
   ]
  },
  {
   "cell_type": "code",
   "execution_count": null,
   "metadata": {},
   "outputs": [],
   "source": [
    "excel = win32com.client.Dispatch('Excel.Application')\n",
    "excel.Visible = True"
   ]
  },
  {
   "cell_type": "markdown",
   "metadata": {},
   "source": [
    "- 워크북/시트 불러오기"
   ]
  },
  {
   "cell_type": "code",
   "execution_count": null,
   "metadata": {},
   "outputs": [],
   "source": [
    "wb = excel.Workbooks.Open('D:/작업방/rpa_hrd/sample.xlsx')\n",
    "ws = wb.Worksheets('sheet1')"
   ]
  },
  {
   "cell_type": "markdown",
   "metadata": {},
   "source": [
    "- 데이터 행 개수 세기"
   ]
  },
  {
   "cell_type": "code",
   "execution_count": null,
   "metadata": {},
   "outputs": [],
   "source": [
    "i = 1\n",
    "cell_value = ws.Cells(i, 1).Value\n",
    "\n",
    "while cell_value != None :\n",
    "      i+=1\n",
    "      cell_value = ws.Cells(i,1).Value\n",
    "\n",
    "max_row = i-1\n",
    "\n",
    "print(max_row)"
   ]
  },
  {
   "cell_type": "markdown",
   "metadata": {},
   "source": [
    "- 합계 제목"
   ]
  },
  {
   "cell_type": "code",
   "execution_count": null,
   "metadata": {},
   "outputs": [],
   "source": [
    "ws.Cells(max_row+1,1).Value = '합계'"
   ]
  },
  {
   "cell_type": "markdown",
   "metadata": {},
   "source": [
    "- 합계 계산"
   ]
  },
  {
   "cell_type": "code",
   "execution_count": null,
   "metadata": {},
   "outputs": [],
   "source": [
    "import string #알파벳 사용시 필요\n",
    "\n",
    "abc = string.ascii_lowercase #영어 소문자를 알파벳 순서대로 출력(0=A, 1=B)\n",
    "\n",
    "#분기별 합계 계산\n",
    "for col in range(2,6):\n",
    "      ws.Cells(max_row+1,col).Formula = '=sum({}2:{}{})'.format(abc[col-1], abc[col-1], max_row)"
   ]
  },
  {
   "cell_type": "markdown",
   "metadata": {},
   "source": [
    "### 판다스에서 데이터 다루기"
   ]
  },
  {
   "cell_type": "code",
   "execution_count": null,
   "id": "7fcbeeaf",
   "metadata": {},
   "outputs": [],
   "source": [
    "import win32com.client\n",
    "import pandas as pd\n",
    "import pyautogui as pg\n",
    "\n",
    "#엑셀 열기\n",
    "excel = win32com.client.Dispatch('Excel.Application')\n",
    "excel.Visible = True\n",
    "wb = excel.Workbooks.Open('D:/작업방/rpa_hrd/sample.xlsx')\n",
    "ws = wb.Worksheets('sheet1')"
   ]
  },
  {
   "cell_type": "markdown",
   "metadata": {},
   "source": [
    "- 엑셀 데이터 가져오기"
   ]
  },
  {
   "cell_type": "code",
   "execution_count": null,
   "id": "fd858a01",
   "metadata": {},
   "outputs": [],
   "source": [
    "win = pg.getWindowsWithTitle('sample')[0]\n",
    "win.activate()\n",
    "pg.hotkey('ctrl','home') \n",
    "pg.hotkey('ctrl','a')\n",
    "pg.hotkey('ctrl','c')\n",
    "\n",
    "excel_data = pd.read_clipboard()\n",
    "excel_data"
   ]
  },
  {
   "cell_type": "markdown",
   "metadata": {},
   "source": [
    "- 엑셀로 내보내기"
   ]
  },
  {
   "cell_type": "code",
   "execution_count": null,
   "id": "09ca36ff",
   "metadata": {},
   "outputs": [],
   "source": [
    "excel_data.to_excel('D:/작업방/rpa_hrd/sample3.xlsx')"
   ]
  },
  {
   "cell_type": "markdown",
   "id": "8d6b6898",
   "metadata": {},
   "source": [
    "- 엑셀 불러오기"
   ]
  },
  {
   "cell_type": "code",
   "execution_count": null,
   "id": "922c103b",
   "metadata": {},
   "outputs": [],
   "source": [
    "df = pd.read_excel('D:/작업방/rpa_hrd/sample3.xlsx') # 인덱스 안나오게 할려면 : index=False or index_col=0"
   ]
  },
  {
   "cell_type": "code",
   "execution_count": null,
   "id": "185bd9d0",
   "metadata": {},
   "outputs": [],
   "source": [
    "df"
   ]
  },
  {
   "cell_type": "markdown",
   "metadata": {},
   "source": [
    "- 열 삭제"
   ]
  },
  {
   "cell_type": "code",
   "execution_count": null,
   "id": "e7d50c51",
   "metadata": {},
   "outputs": [],
   "source": [
    "df.drop(['Unnamed: 0'], axis=1) #axis=1(열기준) axis='columns' 도 가능, axis=2(행기준)"
   ]
  },
  {
   "cell_type": "code",
   "execution_count": null,
   "id": "66c1d560",
   "metadata": {},
   "outputs": [],
   "source": [
    "df"
   ]
  },
  {
   "cell_type": "code",
   "execution_count": null,
   "id": "94d2255b",
   "metadata": {},
   "outputs": [],
   "source": [
    "df.drop(['Unnamed: 0'], axis=1, inplace=True)\n",
    "df"
   ]
  },
  {
   "cell_type": "markdown",
   "metadata": {},
   "source": [
    "- 기본 통계"
   ]
  },
  {
   "cell_type": "code",
   "execution_count": null,
   "id": "1f937441",
   "metadata": {},
   "outputs": [],
   "source": [
    "df.describe()"
   ]
  },
  {
   "cell_type": "markdown",
   "id": "2a45268a",
   "metadata": {},
   "source": [
    "- 데이터 선택(열)"
   ]
  },
  {
   "cell_type": "code",
   "execution_count": null,
   "id": "8eb3439a",
   "metadata": {},
   "outputs": [],
   "source": [
    "df['1분기']"
   ]
  },
  {
   "cell_type": "code",
   "execution_count": null,
   "id": "3ca39354",
   "metadata": {},
   "outputs": [],
   "source": [
    "df[['1분기','2분기']]"
   ]
  },
  {
   "cell_type": "markdown",
   "id": "c04d9eca",
   "metadata": {},
   "source": [
    "- 데이터 선택(행)"
   ]
  },
  {
   "cell_type": "code",
   "execution_count": null,
   "id": "ab9f52d1",
   "metadata": {},
   "outputs": [],
   "source": [
    "df[0:5]"
   ]
  },
  {
   "cell_type": "code",
   "execution_count": null,
   "id": "0da5b237",
   "metadata": {},
   "outputs": [],
   "source": [
    "df.loc[0:5]"
   ]
  },
  {
   "cell_type": "code",
   "execution_count": null,
   "id": "e7e9f7f4",
   "metadata": {},
   "outputs": [],
   "source": [
    "df.loc[0:5,['1분기','2분기']]"
   ]
  },
  {
   "cell_type": "code",
   "execution_count": null,
   "id": "30a9a4b7",
   "metadata": {},
   "outputs": [],
   "source": [
    "df.loc[:,['1분기','2분기']]"
   ]
  },
  {
   "cell_type": "code",
   "execution_count": null,
   "id": "3cb8c401",
   "metadata": {},
   "outputs": [],
   "source": [
    "df.loc[:]"
   ]
  },
  {
   "cell_type": "code",
   "execution_count": null,
   "id": "f67af188",
   "metadata": {},
   "outputs": [],
   "source": [
    "df.iloc[0:5,[0]]"
   ]
  },
  {
   "cell_type": "code",
   "execution_count": null,
   "id": "fac4037e",
   "metadata": {},
   "outputs": [],
   "source": [
    "df.iloc[0:5,[0,1]]"
   ]
  },
  {
   "cell_type": "code",
   "execution_count": null,
   "id": "56de933d",
   "metadata": {},
   "outputs": [],
   "source": [
    "df.iloc[0:5,0:3]"
   ]
  },
  {
   "cell_type": "code",
   "execution_count": null,
   "id": "465098fb",
   "metadata": {},
   "outputs": [],
   "source": [
    "df.iloc[0:5]"
   ]
  },
  {
   "cell_type": "markdown",
   "metadata": {},
   "source": [
    "- 필터링"
   ]
  },
  {
   "cell_type": "code",
   "execution_count": null,
   "metadata": {},
   "outputs": [],
   "source": [
    "df.loc[(df['1분기'] >= 0.5)]"
   ]
  },
  {
   "cell_type": "code",
   "execution_count": null,
   "metadata": {},
   "outputs": [],
   "source": [
    "df.loc[(df['1분기'] >= 0.5) & (df['4분기'] >= 0.8)] # and"
   ]
  },
  {
   "cell_type": "code",
   "execution_count": null,
   "metadata": {},
   "outputs": [],
   "source": [
    "df.loc[(df['1분기'] >= 0.5) | (df['4분기'] >= 0.8)] # or"
   ]
  },
  {
   "cell_type": "markdown",
   "metadata": {},
   "source": [
    "- 정렬"
   ]
  },
  {
   "cell_type": "code",
   "execution_count": null,
   "metadata": {},
   "outputs": [],
   "source": [
    "df.sort_values(by=['1분기'], ascending=True)"
   ]
  },
  {
   "cell_type": "code",
   "execution_count": null,
   "metadata": {},
   "outputs": [],
   "source": [
    "df.sort_values(by=['1분기','2분기'], ascending=True)"
   ]
  },
  {
   "cell_type": "code",
   "execution_count": null,
   "metadata": {},
   "outputs": [],
   "source": [
    "df['1분기'].sort_values(ascending=False)"
   ]
  },
  {
   "cell_type": "markdown",
   "metadata": {},
   "source": [
    "- 데이터 변경"
   ]
  },
  {
   "cell_type": "code",
   "execution_count": null,
   "metadata": {},
   "outputs": [],
   "source": [
    "df.loc[0:2,'1분기'] = 'AA'\n",
    "df"
   ]
  },
  {
   "cell_type": "code",
   "execution_count": null,
   "metadata": {},
   "outputs": [],
   "source": [
    "df.iloc[2,3] = 100 # 인덱스 2행3열\n",
    "df.iloc[0:2,0:3] = 0 # 인덱스 0~1행 X 0~2열\n",
    "df"
   ]
  },
  {
   "cell_type": "code",
   "execution_count": null,
   "metadata": {},
   "outputs": [],
   "source": [
    "# Index 기반 조건부 \n",
    "df.at[4,'3분기'] = '555'  # 인덱스 4행, '3분기' 컬럼 값을 '555'로 변경\n",
    "df"
   ]
  },
  {
   "cell_type": "code",
   "execution_count": null,
   "metadata": {},
   "outputs": [],
   "source": [
    "# True/False 기반 접근 조건부\n",
    "df[(df['4분기'] >= 0.5)] = 10     # '4분기'컬럼 中 '0.5'보다 쿠고나 같은 데이터를 10으로 일괄변경\n",
    "df"
   ]
  }
 ],
 "metadata": {
  "kernelspec": {
   "display_name": "Python 3.8.10 64-bit",
   "language": "python",
   "name": "python3"
  },
  "language_info": {
   "codemirror_mode": {
    "name": "ipython",
    "version": 3
   },
   "file_extension": ".py",
   "mimetype": "text/x-python",
   "name": "python",
   "nbconvert_exporter": "python",
   "pygments_lexer": "ipython3",
   "version": "3.8.10"
  },
  "orig_nbformat": 4,
  "vscode": {
   "interpreter": {
    "hash": "e2782e0ab7cab974e8fb2dfc8cec048a29dc3b50e54743df0c4a34ac41b2be7e"
   }
  }
 },
 "nbformat": 4,
 "nbformat_minor": 2
}
