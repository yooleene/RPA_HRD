{
 "cells": [
  {
   "cell_type": "markdown",
   "metadata": {},
   "source": [
    "#### 1.EP 로그인 정보 입력(ID, PASS)"
   ]
  },
  {
   "cell_type": "code",
   "execution_count": 1,
   "metadata": {},
   "outputs": [],
   "source": [
    "import pyautogui\n",
    "\n",
    "my_id = 'user_id'\n",
    "my_pw = pyautogui.password(title='EP_PASS', text='패스워드를 입력하세요', default='')"
   ]
  },
  {
   "cell_type": "markdown",
   "metadata": {},
   "source": [
    "#### 2.EP 접속"
   ]
  },
  {
   "cell_type": "code",
   "execution_count": 6,
   "metadata": {},
   "outputs": [
    {
     "name": "stderr",
     "output_type": "stream",
     "text": [
      "C:\\Users\\poscouser\\AppData\\Local\\Temp\\ipykernel_29844\\479025945.py:10: DeprecationWarning: executable_path has been deprecated, please pass in a Service object\n",
      "  driver = webdriver.Edge('../msedgedriver')\n"
     ]
    }
   ],
   "source": [
    "from selenium import webdriver\n",
    "from selenium.webdriver.common.by import By\n",
    "from selenium.webdriver.common.keys import Keys\n",
    "import clipboard\n",
    "\n",
    "url = 'http://swpsso.posco.net/idms/U61/jsp/login/login.jsp'\n",
    "\n",
    "driver = webdriver.Edge('../msedgedriver')\n",
    "driver.get(url)\n",
    "driver.maximize_window()\n",
    "\n",
    "#로그인\n",
    "driver.find_element(By.XPATH,'//*[@id=\"username\"]').send_keys(my_id)\n",
    "driver.find_element(By.XPATH,'//*[@id=\"password\"]').send_keys(my_pw)\n",
    "driver.find_element(By.XPATH,'//*[@id=\"loginsubmit\"]').click()\n",
    "driver.implicitly_wait(10) #드라이버가 로딩되는데 10초까지 대기, 빨리 로딩되면 다음 코드 진행\n",
    "\n",
    "# 로그인시 발생하는 예외 처리\n",
    "pyautogui.sleep(5)\n",
    "try:  # 기존 로그인 경고창이 열릴 경우 alert accept 처리\n",
    "    alert=driver.switch_to.alert\n",
    "    alert.accept()\n",
    "except:\n",
    "    print(\"기존 로그인 경고창 없음. 계속 진행.\")  # 경고창이 열리지 않을 경우\n"
   ]
  },
  {
   "cell_type": "markdown",
   "metadata": {},
   "source": [
    "##### ** 엣지가 안정화 되는 동안 SSO Notice 창 닫기"
   ]
  },
  {
   "cell_type": "code",
   "execution_count": 7,
   "metadata": {},
   "outputs": [],
   "source": [
    "#현재 활성화된 드라이버 창 확인하여 SSO Notice 창 닫기\n",
    "pyautogui.sleep(2) #슬립이 없으면 에러\n",
    "\n",
    "try:  # 팝업창이 열릴 경우 창 닫기\n",
    "      for i in reversed(range(len(driver.window_handles))):\n",
    "            driver.switch_to.window(driver.window_handles[i])\n",
    "            if driver.title != 'EP(Enterprise Portal)':\n",
    "                  driver.close()\n",
    "except:\n",
    "    print(\"팝업창 없음-계속 진행\")  # 팝업창이 하나도 없을 경우"
   ]
  },
  {
   "cell_type": "markdown",
   "metadata": {},
   "source": [
    "#### 3.메일 화면 열기"
   ]
  },
  {
   "cell_type": "code",
   "execution_count": null,
   "metadata": {},
   "outputs": [],
   "source": [
    "pyautogui.sleep(15) #로그인 되는 시간을 충분히 줌\n",
    "\n",
    "driver.switch_to.window(driver.window_handles[-1]) #최근창으로 전환\n",
    "driver.find_element(By.XPATH,\"//*[@id='533982']\").click()"
   ]
  },
  {
   "cell_type": "markdown",
   "metadata": {},
   "source": [
    "#### 4.메일 쓰기 화면 열기"
   ]
  },
  {
   "cell_type": "code",
   "execution_count": null,
   "metadata": {},
   "outputs": [],
   "source": [
    "pyautogui.sleep(3)\n",
    "\n",
    "driver.switch_to.window(driver.window_handles[-1]) #최근창으로 전환\n",
    "driver.find_element(By.XPATH,\"//*[@id='Lnb']/div[1]/a\").click()\n"
   ]
  },
  {
   "cell_type": "markdown",
   "metadata": {},
   "source": [
    "#### 5.메일 본문 쓰기"
   ]
  },
  {
   "cell_type": "code",
   "execution_count": null,
   "metadata": {},
   "outputs": [],
   "source": [
    "pyautogui.sleep(3) #실습할때는 화면을 클릭해줘야 함\n",
    "\n",
    "#메일 정보, 본문 입력\n",
    "\n",
    "mail_add = 'user@poscohrd.com'\n",
    "mail_sub = 'RPA 종합실습'\n",
    "mail_con = '실습 보고서를 보내 드립니다.'\n",
    "\n",
    "driver.switch_to.window(driver.window_handles[-1]) #최근창으로 전환\n",
    "driver.find_element(By.XPATH,'//*[@id=\"token-input-send_to\"]').send_keys(mail_add)\n",
    "\n",
    "pg.sleep(1)\n",
    "\n",
    "driver.find_element(By.XPATH,'//*[@id=\"write_send_info\"]/table[2]/tbody/tr[1]/td/input').send_keys(mail_sub)\n",
    "#iframe으로 프레임 안에 프레임이 있음 : id값으로 프레임전환\n",
    "driver.switch_to.frame(\"dext_frame_WEC\")\n",
    "driver.switch_to.frame(\"dext5_design_WEC\")\n",
    "driver.find_element(By.XPATH,'//*[@id=\"dext_body\"]/p[1]').send_keys(mail_con)\n",
    "#iframe 완전히 빠져 나가기\n",
    "driver.switch_to.default_content()"
   ]
  },
  {
   "cell_type": "markdown",
   "metadata": {},
   "source": [
    "#### 6. 보내기"
   ]
  },
  {
   "cell_type": "code",
   "execution_count": null,
   "metadata": {},
   "outputs": [],
   "source": [
    "#보내기\n",
    "pyautogui.sleep(2)\n",
    "driver.find_element(By.XPATH,'//*[@id=\"memo_content\"]/div[1]/ul[1]/li[1]/a').click()\n",
    "\n",
    "#메일 발송 확인창 확인 버튼 클릭- alert창으로 처리\n",
    "pyautogui.sleep(5)\n",
    "try:  # 메일 발송 확인창이 열릴 경우 alert accept 처리\n",
    "    alert=driver.switch_to.alert\n",
    "    alert.accept()\n",
    "except:\n",
    "    print(\"메일 발송 확인창 없음. 계속 진행.\")\n",
    "\n",
    "pyautogui.sleep(3) #배치파일로 실행할 때는 모든 창이 닫기므로 메일을 보내는 시간이 필요함"
   ]
  }
 ],
 "metadata": {
  "kernelspec": {
   "display_name": "Python 3.8.10 64-bit",
   "language": "python",
   "name": "python3"
  },
  "language_info": {
   "codemirror_mode": {
    "name": "ipython",
    "version": 3
   },
   "file_extension": ".py",
   "mimetype": "text/x-python",
   "name": "python",
   "nbconvert_exporter": "python",
   "pygments_lexer": "ipython3",
   "version": "3.8.10"
  },
  "orig_nbformat": 4,
  "vscode": {
   "interpreter": {
    "hash": "e2782e0ab7cab974e8fb2dfc8cec048a29dc3b50e54743df0c4a34ac41b2be7e"
   }
  }
 },
 "nbformat": 4,
 "nbformat_minor": 2
}
