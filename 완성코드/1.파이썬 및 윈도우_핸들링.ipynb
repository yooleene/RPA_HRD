{
 "cells": [
  {
   "cell_type": "code",
   "execution_count": 1,
   "metadata": {},
   "outputs": [
    {
     "name": "stdout",
     "output_type": "stream",
     "text": [
      "100\n"
     ]
    }
   ],
   "source": [
    "print(100)"
   ]
  },
  {
   "cell_type": "code",
   "execution_count": null,
   "metadata": {},
   "outputs": [],
   "source": [
    "print(100.123)"
   ]
  },
  {
   "cell_type": "code",
   "execution_count": 2,
   "metadata": {},
   "outputs": [
    {
     "name": "stdout",
     "output_type": "stream",
     "text": [
      "안녕하세요!!!\n"
     ]
    }
   ],
   "source": [
    "print(\"안녕하세요!!!\")"
   ]
  },
  {
   "cell_type": "code",
   "execution_count": 3,
   "metadata": {},
   "outputs": [
    {
     "name": "stdout",
     "output_type": "stream",
     "text": [
      "사과\n"
     ]
    }
   ],
   "source": [
    "a = \"사과\"\n",
    "print(a)"
   ]
  },
  {
   "cell_type": "code",
   "execution_count": 4,
   "metadata": {},
   "outputs": [
    {
     "name": "stdout",
     "output_type": "stream",
     "text": [
      "30\n"
     ]
    }
   ],
   "source": [
    "# 변수 a에 10의 값을 저장\n",
    "a = 10\n",
    "\n",
    "# 변수 b에 20의 값을 저장\n",
    "b = 20 \n",
    "\n",
    "# 변수 c에 a+b의 값을 저장\n",
    "c = a + b\n",
    "\n",
    "# c를 출력\n",
    "print(c)  "
   ]
  },
  {
   "cell_type": "code",
   "execution_count": 5,
   "metadata": {},
   "outputs": [
    {
     "name": "stdout",
     "output_type": "stream",
     "text": [
      "2월은 28 일 입니다.\n"
     ]
    }
   ],
   "source": [
    "# 변수에 값을 저장하고 문자열과 함께 출력\n",
    "days = 28\n",
    "print(\"2월은\", days,\"일 입니다.\")"
   ]
  },
  {
   "cell_type": "code",
   "execution_count": 6,
   "metadata": {},
   "outputs": [],
   "source": [
    "import pyautogui as pg"
   ]
  },
  {
   "cell_type": "code",
   "execution_count": null,
   "metadata": {},
   "outputs": [],
   "source": [
    "# 메모장의 마우스 좌표 추출\n",
    "pg.sleep(3)\n",
    "pg.position()"
   ]
  },
  {
   "cell_type": "code",
   "execution_count": null,
   "metadata": {},
   "outputs": [],
   "source": [
    "# 좌표로 이동하여 클릭하고 days 를 쓰기\n",
    "pg.moveTo(x=42, y=76, duration=2)\n",
    "pg.click()\n",
    "pg.write(str(days))"
   ]
  },
  {
   "cell_type": "code",
   "execution_count": null,
   "metadata": {},
   "outputs": [],
   "source": [
    "# days 아래에 'Hello!!' 쓰기\n",
    "h = 'Hello!!'\n",
    "pg.moveTo(x=42, y=76, duration=2)\n",
    "pg.click()\n",
    "pg.press('end')\n",
    "pg.press('enter')\n",
    "pg.write(h)"
   ]
  },
  {
   "cell_type": "code",
   "execution_count": null,
   "metadata": {},
   "outputs": [],
   "source": [
    "list = ['A','B','C','D']"
   ]
  },
  {
   "cell_type": "code",
   "execution_count": null,
   "metadata": {},
   "outputs": [],
   "source": [
    "# 리스트 슬라이싱\n",
    "list[0]"
   ]
  },
  {
   "cell_type": "code",
   "execution_count": null,
   "metadata": {},
   "outputs": [],
   "source": [
    "for li in list:\n",
    "      print(li)"
   ]
  },
  {
   "cell_type": "code",
   "execution_count": null,
   "metadata": {},
   "outputs": [],
   "source": [
    "# 리스트를 활용한 윈도우 핸들링\n",
    "pg.moveTo(x=42, y=76, duration=2)\n",
    "pg.click()\n",
    "\n",
    "pg.hotkey('ctrl','a')\n",
    "\n",
    "for li in list:\n",
    "      pg.write(li)\n",
    "      pg.press('enter')"
   ]
  },
  {
   "cell_type": "code",
   "execution_count": 7,
   "metadata": {},
   "outputs": [],
   "source": [
    "# 이미지로 마우스 핸들링\n",
    "btn_file = pg.locateCenterOnScreen('../btn_file.PNG')\n",
    "pg.click(btn_file)\n",
    "pg.hotkey('ctrl','s')\n",
    "pg.sleep(1)\n",
    "pg.write(r'd:\\abcdefg.txt', interval=0.2)"
   ]
  }
 ],
 "metadata": {
  "kernelspec": {
   "display_name": "Python 3.8.10 64-bit",
   "language": "python",
   "name": "python3"
  },
  "language_info": {
   "codemirror_mode": {
    "name": "ipython",
    "version": 3
   },
   "file_extension": ".py",
   "mimetype": "text/x-python",
   "name": "python",
   "nbconvert_exporter": "python",
   "pygments_lexer": "ipython3",
   "version": "3.8.10"
  },
  "orig_nbformat": 4,
  "vscode": {
   "interpreter": {
    "hash": "e2782e0ab7cab974e8fb2dfc8cec048a29dc3b50e54743df0c4a34ac41b2be7e"
   }
  }
 },
 "nbformat": 4,
 "nbformat_minor": 2
}
